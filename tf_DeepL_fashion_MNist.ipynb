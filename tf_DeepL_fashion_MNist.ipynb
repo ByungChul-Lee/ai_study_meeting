{
  "nbformat": 4,
  "nbformat_minor": 0,
  "metadata": {
    "colab": {
      "name": "tf_DeepL_fashion_MNist.ipynb",
      "provenance": [],
      "collapsed_sections": [],
      "authorship_tag": "ABX9TyOvxNBIyQw2aM37TQM788Rp",
      "include_colab_link": true
    },
    "kernelspec": {
      "name": "python3",
      "display_name": "Python 3"
    },
    "language_info": {
      "name": "python"
    }
  },
  "cells": [
    {
      "cell_type": "markdown",
      "metadata": {
        "id": "view-in-github",
        "colab_type": "text"
      },
      "source": [
        "<a href=\"https://colab.research.google.com/github/ByungChul-Lee/ai_study_meeting/blob/main/tf_DeepL_fashion_MNist.ipynb\" target=\"_parent\"><img src=\"https://colab.research.google.com/assets/colab-badge.svg\" alt=\"Open In Colab\"/></a>"
      ]
    },
    {
      "cell_type": "code",
      "execution_count": null,
      "metadata": {
        "id": "iSI6tGem-OF6",
        "colab": {
          "base_uri": "https://localhost:8080/"
        },
        "outputId": "c0c185a0-993f-4890-ef01-ae17a0bdf91c"
      },
      "outputs": [
        {
          "output_type": "stream",
          "name": "stdout",
          "text": [
            "Downloading data from https://storage.googleapis.com/tensorflow/tf-keras-datasets/train-labels-idx1-ubyte.gz\n",
            "32768/29515 [=================================] - 0s 0us/step\n",
            "40960/29515 [=========================================] - 0s 0us/step\n",
            "Downloading data from https://storage.googleapis.com/tensorflow/tf-keras-datasets/train-images-idx3-ubyte.gz\n",
            "26427392/26421880 [==============================] - 0s 0us/step\n",
            "26435584/26421880 [==============================] - 0s 0us/step\n",
            "Downloading data from https://storage.googleapis.com/tensorflow/tf-keras-datasets/t10k-labels-idx1-ubyte.gz\n",
            "16384/5148 [===============================================================================================] - 0s 0us/step\n",
            "Downloading data from https://storage.googleapis.com/tensorflow/tf-keras-datasets/t10k-images-idx3-ubyte.gz\n",
            "4423680/4422102 [==============================] - 0s 0us/step\n",
            "4431872/4422102 [==============================] - 0s 0us/step\n"
          ]
        }
      ],
      "source": [
        "import tensorflow as tf\n",
        "import numpy as np\n",
        "from tensorflow.keras.datasets import fashion_mnist\n",
        "import matplotlib.pyplot as plt\n",
        "\n",
        "(x_train, t_train), (x_test, t_test) = fashion_mnist.load_data()\n"
      ]
    },
    {
      "cell_type": "code",
      "source": [
        "x_train = ( x_train - 0.0) / (255.0 - 0.0)\n",
        "x_test = ( x_test - 0.0) /(255.0 - 0.0)\n"
      ],
      "metadata": {
        "id": "l1NFZuSiGmpo"
      },
      "execution_count": null,
      "outputs": []
    },
    {
      "cell_type": "code",
      "source": [
        "#t_train = tf.keras.utils.to_categorical(t_train, num_classes=10)\n",
        "#t_test = tf.keras.utils.to_categorical(t_test, num_classes=10)"
      ],
      "metadata": {
        "id": "4mwWvSaNTSBT"
      },
      "execution_count": null,
      "outputs": []
    },
    {
      "cell_type": "code",
      "source": [
        "model = tf.keras.Sequential()\n",
        "model.add(tf.keras.layers.Flatten(input_shape =(28, 28)))\n",
        "model.add(tf.keras.layers.Dense(100, activation='relu'))\n",
        "model.add(tf.keras.layers.Dense(10, activation='softmax'))"
      ],
      "metadata": {
        "id": "ckipxwebTwXY"
      },
      "execution_count": null,
      "outputs": []
    },
    {
      "cell_type": "code",
      "source": [
        "model.compile(optimizer= tf.keras.optimizers.Adam(learning_rate=1e-3),\n",
        "              loss='sparse_categorical_crossentropy',\n",
        "              metrics=['accuracy'])\n",
        "model.summary()"
      ],
      "metadata": {
        "colab": {
          "base_uri": "https://localhost:8080/"
        },
        "id": "CIdv85WPUVlY",
        "outputId": "f6b46292-8376-45d1-89ff-9c7e577cbc60"
      },
      "execution_count": null,
      "outputs": [
        {
          "output_type": "stream",
          "name": "stdout",
          "text": [
            "Model: \"sequential\"\n",
            "_________________________________________________________________\n",
            " Layer (type)                Output Shape              Param #   \n",
            "=================================================================\n",
            " flatten (Flatten)           (None, 784)               0         \n",
            "                                                                 \n",
            " dense (Dense)               (None, 100)               78500     \n",
            "                                                                 \n",
            " dense_1 (Dense)             (None, 10)                1010      \n",
            "                                                                 \n",
            "=================================================================\n",
            "Total params: 79,510\n",
            "Trainable params: 79,510\n",
            "Non-trainable params: 0\n",
            "_________________________________________________________________\n"
          ]
        }
      ]
    },
    {
      "cell_type": "code",
      "source": [
        "hist = model.fit(x_train, t_train, epochs = 30, validation_split= 0.3)"
      ],
      "metadata": {
        "colab": {
          "base_uri": "https://localhost:8080/"
        },
        "id": "swGVVcpjU_V7",
        "outputId": "ead71cd5-6460-4c7e-eebc-61532831ecae"
      },
      "execution_count": null,
      "outputs": [
        {
          "output_type": "stream",
          "name": "stdout",
          "text": [
            "Epoch 1/30\n",
            "1313/1313 [==============================] - 9s 6ms/step - loss: 0.5475 - accuracy: 0.8091 - val_loss: 0.4357 - val_accuracy: 0.8484\n",
            "Epoch 2/30\n",
            "1313/1313 [==============================] - 6s 5ms/step - loss: 0.4027 - accuracy: 0.8575 - val_loss: 0.3836 - val_accuracy: 0.8638\n",
            "Epoch 3/30\n",
            "1313/1313 [==============================] - 4s 3ms/step - loss: 0.3606 - accuracy: 0.8700 - val_loss: 0.3717 - val_accuracy: 0.8632\n",
            "Epoch 4/30\n",
            "1313/1313 [==============================] - 4s 3ms/step - loss: 0.3323 - accuracy: 0.8778 - val_loss: 0.3744 - val_accuracy: 0.8681\n",
            "Epoch 5/30\n",
            "1313/1313 [==============================] - 4s 3ms/step - loss: 0.3145 - accuracy: 0.8847 - val_loss: 0.3350 - val_accuracy: 0.8787\n",
            "Epoch 6/30\n",
            "1313/1313 [==============================] - 4s 3ms/step - loss: 0.2961 - accuracy: 0.8919 - val_loss: 0.3335 - val_accuracy: 0.8784\n",
            "Epoch 7/30\n",
            "1313/1313 [==============================] - 4s 3ms/step - loss: 0.2854 - accuracy: 0.8934 - val_loss: 0.3401 - val_accuracy: 0.8801\n",
            "Epoch 8/30\n",
            "1313/1313 [==============================] - 5s 4ms/step - loss: 0.2696 - accuracy: 0.9012 - val_loss: 0.3275 - val_accuracy: 0.8824\n",
            "Epoch 9/30\n",
            "1313/1313 [==============================] - 5s 4ms/step - loss: 0.2587 - accuracy: 0.9031 - val_loss: 0.3296 - val_accuracy: 0.8853\n",
            "Epoch 10/30\n",
            "1313/1313 [==============================] - 4s 3ms/step - loss: 0.2476 - accuracy: 0.9085 - val_loss: 0.3337 - val_accuracy: 0.8835\n",
            "Epoch 11/30\n",
            "1313/1313 [==============================] - 4s 3ms/step - loss: 0.2396 - accuracy: 0.9121 - val_loss: 0.3253 - val_accuracy: 0.8862\n",
            "Epoch 12/30\n",
            "1313/1313 [==============================] - 4s 3ms/step - loss: 0.2317 - accuracy: 0.9140 - val_loss: 0.3283 - val_accuracy: 0.8863\n",
            "Epoch 13/30\n",
            "1313/1313 [==============================] - 4s 3ms/step - loss: 0.2257 - accuracy: 0.9154 - val_loss: 0.3296 - val_accuracy: 0.8881\n",
            "Epoch 14/30\n",
            "1313/1313 [==============================] - 4s 3ms/step - loss: 0.2189 - accuracy: 0.9194 - val_loss: 0.3290 - val_accuracy: 0.8893\n",
            "Epoch 15/30\n",
            "1313/1313 [==============================] - 4s 3ms/step - loss: 0.2120 - accuracy: 0.9206 - val_loss: 0.3235 - val_accuracy: 0.8889\n",
            "Epoch 16/30\n",
            "1313/1313 [==============================] - 4s 3ms/step - loss: 0.2045 - accuracy: 0.9250 - val_loss: 0.3351 - val_accuracy: 0.8900\n",
            "Epoch 17/30\n",
            "1313/1313 [==============================] - 4s 3ms/step - loss: 0.2000 - accuracy: 0.9265 - val_loss: 0.3414 - val_accuracy: 0.8866\n",
            "Epoch 18/30\n",
            "1313/1313 [==============================] - 4s 3ms/step - loss: 0.1904 - accuracy: 0.9287 - val_loss: 0.3536 - val_accuracy: 0.8833\n",
            "Epoch 19/30\n",
            "1313/1313 [==============================] - 4s 3ms/step - loss: 0.1867 - accuracy: 0.9315 - val_loss: 0.3561 - val_accuracy: 0.8855\n",
            "Epoch 20/30\n",
            "1313/1313 [==============================] - 5s 4ms/step - loss: 0.1870 - accuracy: 0.9307 - val_loss: 0.3475 - val_accuracy: 0.8903\n",
            "Epoch 21/30\n",
            "1313/1313 [==============================] - 5s 4ms/step - loss: 0.1785 - accuracy: 0.9326 - val_loss: 0.3588 - val_accuracy: 0.8896\n",
            "Epoch 22/30\n",
            "1313/1313 [==============================] - 5s 4ms/step - loss: 0.1741 - accuracy: 0.9350 - val_loss: 0.3683 - val_accuracy: 0.8872\n",
            "Epoch 23/30\n",
            "1313/1313 [==============================] - 5s 4ms/step - loss: 0.1704 - accuracy: 0.9364 - val_loss: 0.3465 - val_accuracy: 0.8913\n",
            "Epoch 24/30\n",
            "1313/1313 [==============================] - 4s 3ms/step - loss: 0.1647 - accuracy: 0.9388 - val_loss: 0.3624 - val_accuracy: 0.8889\n",
            "Epoch 25/30\n",
            "1313/1313 [==============================] - 4s 3ms/step - loss: 0.1617 - accuracy: 0.9392 - val_loss: 0.3636 - val_accuracy: 0.8908\n",
            "Epoch 26/30\n",
            "1313/1313 [==============================] - 4s 3ms/step - loss: 0.1575 - accuracy: 0.9417 - val_loss: 0.3877 - val_accuracy: 0.8862\n",
            "Epoch 27/30\n",
            "1313/1313 [==============================] - 4s 3ms/step - loss: 0.1543 - accuracy: 0.9425 - val_loss: 0.3957 - val_accuracy: 0.8822\n",
            "Epoch 28/30\n",
            "1313/1313 [==============================] - 4s 3ms/step - loss: 0.1492 - accuracy: 0.9437 - val_loss: 0.3797 - val_accuracy: 0.8879\n",
            "Epoch 29/30\n",
            "1313/1313 [==============================] - 4s 3ms/step - loss: 0.1468 - accuracy: 0.9455 - val_loss: 0.4154 - val_accuracy: 0.8853\n",
            "Epoch 30/30\n",
            "1313/1313 [==============================] - 4s 3ms/step - loss: 0.1437 - accuracy: 0.9472 - val_loss: 0.3854 - val_accuracy: 0.8891\n"
          ]
        }
      ]
    },
    {
      "cell_type": "code",
      "source": [
        "model.evaluate(x_test, t_test)"
      ],
      "metadata": {
        "colab": {
          "base_uri": "https://localhost:8080/"
        },
        "id": "Tg-qrIqlHXbz",
        "outputId": "4b4bb7ff-edd1-418e-a787-cd4ae4968895"
      },
      "execution_count": null,
      "outputs": [
        {
          "output_type": "stream",
          "name": "stdout",
          "text": [
            "313/313 [==============================] - 0s 1ms/step - loss: 0.4287 - accuracy: 0.8803\n"
          ]
        },
        {
          "output_type": "execute_result",
          "data": {
            "text/plain": [
              "[0.4286806583404541, 0.880299985408783]"
            ]
          },
          "metadata": {},
          "execution_count": 7
        }
      ]
    },
    {
      "cell_type": "code",
      "source": [
        "plt.title('Loss')\n",
        "plt.grid()\n",
        "plt.plot(hist.history['loss'], label='train loss')\n",
        "plt.plot(hist.history['val_loss'], label='validation loss')\n",
        "plt.legend(loc='best')\n",
        "plt.show()"
      ],
      "metadata": {
        "colab": {
          "base_uri": "https://localhost:8080/",
          "height": 281
        },
        "id": "fSDK2vYNHllP",
        "outputId": "527c711b-c849-48d1-a468-055f82c1e088"
      },
      "execution_count": null,
      "outputs": [
        {
          "output_type": "display_data",
          "data": {
            "text/plain": [
              "<Figure size 432x288 with 1 Axes>"
            ],
            "image/png": "[encoded data removed]"
          },
          "metadata": {
            "needs_background": "light"
          }
        }
      ]
    },
    {
      "cell_type": "code",
      "source": [
        "\n",
        "from sklearn.metrics import confusion_matrix\n",
        "import seaborn as sns\n",
        "\n",
        "plt.figure(figsize=(6, 6))\n",
        "predicted_value  = model.predict(x_test)\n",
        "\n",
        "cm = confusion_matrix(t_test, np.argmax(predicted_value, axis = -1))\n",
        "sns.heatmap(cm, annot= True, fmt ='d')\n",
        "plt.show()"
      ],
      "metadata": {
        "colab": {
          "base_uri": "https://localhost:8080/",
          "height": 374
        },
        "id": "p23IabzCHdhk",
        "outputId": "bbcd6e65-6494-406d-e44d-782fb88f215a"
      },
      "execution_count": null,
      "outputs": [
        {
          "output_type": "display_data",
          "data": {
            "text/plain": [
              "<Figure size 432x432 with 2 Axes>"
            ],
            "image/png": "[encoded data removed]"
          },
          "metadata": {
            "needs_background": "light"
          }
        }
      ]
    },
    {
      "cell_type": "code",
      "source": [
        "print(cm)\n",
        "print('\\n')\n",
        "\n",
        "for i in range(10):\n",
        "  print(('label = %d\\t(%d/%d)\\taccuracy = %.3f')%\n",
        "        (i, np.max(cm[i]), np.sum(cm[i]),\n",
        "         np.max(cm[i])/np.sum(cm[i])))"
      ],
      "metadata": {
        "colab": {
          "base_uri": "https://localhost:8080/"
        },
        "id": "a8Fmd9n-J_tH",
        "outputId": "c7813980-02db-4d3d-9543-5c1453775162"
      },
      "execution_count": null,
      "outputs": [
        {
          "output_type": "stream",
          "name": "stdout",
          "text": [
            "[[844   4  25  20   6   0  90   1  10   0]\n",
            " [  1 969   2  22   4   0   2   0   0   0]\n",
            " [ 18   1 794  14 100   0  71   0   2   0]\n",
            " [ 23   2  13 876  54   0  23   0   9   0]\n",
            " [  1   2  91  16 839   0  49   0   2   0]\n",
            " [  0   0   0   1   0 963   0  20   5  11]\n",
            " [142   2  90  30  86   0 640   0  10   0]\n",
            " [  0   0   0   0   0  14   0 970   1  15]\n",
            " [  4   0   5   5   4   2   3   4 973   0]\n",
            " [  0   0   0   0   0  14   1  50   0 935]]\n",
            "\n",
            "\n",
            "label = 0\t(844/1000)\taccuracy = 0.844\n",
            "label = 1\t(969/1000)\taccuracy = 0.969\n",
            "label = 2\t(794/1000)\taccuracy = 0.794\n",
            "label = 3\t(876/1000)\taccuracy = 0.876\n",
            "label = 4\t(839/1000)\taccuracy = 0.839\n",
            "label = 5\t(963/1000)\taccuracy = 0.963\n",
            "label = 6\t(640/1000)\taccuracy = 0.640\n",
            "label = 7\t(970/1000)\taccuracy = 0.970\n",
            "label = 8\t(973/1000)\taccuracy = 0.973\n",
            "label = 9\t(935/1000)\taccuracy = 0.935\n"
          ]
        }
      ]
    },
    {
      "cell_type": "code",
      "source": [
        ""
      ],
      "metadata": {
        "id": "VbH1y1REKDfC"
      },
      "execution_count": null,
      "outputs": []
    }
  ]
}