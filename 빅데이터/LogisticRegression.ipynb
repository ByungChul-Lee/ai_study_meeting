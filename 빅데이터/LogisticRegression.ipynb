{
 "cells": [
  {
   "cell_type": "code",
   "execution_count": null,
   "id": "17bac4fa-671f-49ac-b9fc-4be08745a5db",
   "metadata": {},
   "outputs": [],
   "source": [
    "import numpy as np\n",
    "import pandas as pd\n",
    "\n",
    "from sklearn.datasets import load_breast_cancer"
   ]
  },
  {
   "cell_type": "code",
   "execution_count": null,
   "id": "d7c4db2c-692c-49de-b7d8-8b9c47807d85",
   "metadata": {},
   "outputs": [],
   "source": [
    "b_cancer = load_breast_cancer()"
   ]
  },
  {
   "cell_type": "code",
   "execution_count": null,
   "id": "e00a7183-c410-441a-b686-bf27810c272c",
   "metadata": {},
   "outputs": [],
   "source": [
    "print(b_cancer.DESCR)"
   ]
  },
  {
   "cell_type": "code",
   "execution_count": null,
   "id": "6b9837d4-556d-4eb2-81b4-35d7f7396801",
   "metadata": {},
   "outputs": [],
   "source": [
    "b_cancer_df = pd.DataFrame(b_cancer.data, columns = b_cancer.feature_names)"
   ]
  },
  {
   "cell_type": "code",
   "execution_count": null,
   "id": "691dd73b-e54f-405a-9de7-029fd2324c95",
   "metadata": {},
   "outputs": [],
   "source": [
    "b_cancer_df['diagnosis']= b_cancer.target"
   ]
  },
  {
   "cell_type": "code",
   "execution_count": null,
   "id": "608575ae-db7a-4f56-9452-453034232c0c",
   "metadata": {},
   "outputs": [],
   "source": [
    "b_cancer_df.head()"
   ]
  },
  {
   "cell_type": "code",
   "execution_count": null,
   "id": "a5675f74-33aa-4aba-99f9-fdcf2ec3ac57",
   "metadata": {},
   "outputs": [],
   "source": [
    "print('유방암 진단 데이터셋 크기: ', b_cancer_df.shape)"
   ]
  },
  {
   "cell_type": "code",
   "execution_count": null,
   "id": "51bd5dcd-ff56-4339-9cb6-113480b9f415",
   "metadata": {},
   "outputs": [],
   "source": [
    "b_cancer_df.info()"
   ]
  },
  {
   "cell_type": "code",
   "execution_count": null,
   "id": "e64f6741-0b02-4d5f-81c9-ac5d1ee0b534",
   "metadata": {},
   "outputs": [],
   "source": [
    "from sklearn.preprocessing import StandardScaler\n",
    "scaler = StandardScaler()"
   ]
  },
  {
   "cell_type": "code",
   "execution_count": null,
   "id": "056c493f-1268-4b6a-becd-dd310625504c",
   "metadata": {},
   "outputs": [],
   "source": [
    "b_cancer_scaled = scaler.fit_transform(b_cancer.data)"
   ]
  },
  {
   "cell_type": "code",
   "execution_count": null,
   "id": "deca4e2b-e5ce-4762-859b-e2ff88a35522",
   "metadata": {},
   "outputs": [],
   "source": [
    "print(b_cancer.data[0])"
   ]
  },
  {
   "cell_type": "code",
   "execution_count": null,
   "id": "efa44344-b169-4e7e-ad10-2307a794c8d2",
   "metadata": {},
   "outputs": [],
   "source": [
    "print(b_cancer_scaled[0])"
   ]
  },
  {
   "cell_type": "code",
   "execution_count": null,
   "id": "37b2ff43-6480-4aaa-8197-996b8471fb3d",
   "metadata": {},
   "outputs": [],
   "source": [
    "from sklearn.linear_model import LogisticRegression \n",
    "from sklearn.model_selection import train_test_split"
   ]
  },
  {
   "cell_type": "code",
   "execution_count": null,
   "id": "4cfca19a-523d-4aed-9b14-2a513b782696",
   "metadata": {},
   "outputs": [],
   "source": [
    "# X, Y 설정하기 \n",
    "Y = b_cancer_df['diagnosis'] \n",
    "X = b_cancer_scaled"
   ]
  },
  {
   "cell_type": "code",
   "execution_count": null,
   "id": "39466a9e-4d75-4221-baea-5ea3f0d13d39",
   "metadata": {},
   "outputs": [],
   "source": [
    "# 훈련용 데이터와 평가용 데이터 분할하기 \n",
    "X_train, X_test, Y_train, Y_test = train_test_split(X, Y, test_size = 0.3, random_state = 0)"
   ]
  },
  {
   "cell_type": "code",
   "execution_count": null,
   "id": "15361f69-f76c-4f69-b85b-7da395e77a36",
   "metadata": {},
   "outputs": [],
   "source": [
    "# 로지스틱 회귀 분석: (1) 모델 생성 \n",
    "lr_b_cancer = LogisticRegression()"
   ]
  },
  {
   "cell_type": "code",
   "execution_count": null,
   "id": "cbf9fbca-949c-4b57-90b7-b086a11f7c3d",
   "metadata": {},
   "outputs": [],
   "source": [
    "# 로지스틱 회귀 분석: (2) 모델 훈련\n",
    "lr_b_cancer.fit(X_train, Y_train)"
   ]
  },
  {
   "cell_type": "code",
   "execution_count": null,
   "id": "1c33e9c2-1e1f-422a-a6bd-28f7f6820d4a",
   "metadata": {},
   "outputs": [],
   "source": [
    "# 로지스틱 회귀 분석: (3) 평가 데이터에 대한 예측 수행 -> 예측 결과 Y_predict 구하기\n",
    "Y_predict = lr_b_cancer.predict(X_test)"
   ]
  },
  {
   "cell_type": "code",
   "execution_count": null,
   "id": "14985e10-faef-44f5-89d6-a48f15a024cb",
   "metadata": {},
   "outputs": [],
   "source": [
    "from sklearn.metrics import confusion_matrix, accuracy_score \n",
    "from sklearn.metrics import precision_score, recall_score, f1_score, roc_auc_score"
   ]
  },
  {
   "cell_type": "code",
   "execution_count": null,
   "id": "9039fca2-2352-4ea5-af98-457b2c33b18d",
   "metadata": {},
   "outputs": [],
   "source": [
    "# 오차 행렬\n",
    "confusion_matrix(Y_test, Y_predict)"
   ]
  },
  {
   "cell_type": "code",
   "execution_count": null,
   "id": "00f91a23-2087-4155-889d-352645483738",
   "metadata": {},
   "outputs": [],
   "source": [
    "acccuracy = accuracy_score(Y_test, Y_predict) \n",
    "precision = precision_score(Y_test, Y_predict) \n",
    "recall = recall_score(Y_test, Y_predict) \n",
    "roc_auc = roc_auc_score(Y_test, Y_predict)"
   ]
  },
  {
   "cell_type": "code",
   "execution_count": null,
   "id": "b7538430-9ab9-4d18-af29-1ab411f6c74c",
   "metadata": {},
   "outputs": [],
   "source": [
    "print('정확도: {0:.3f}, 정밀도: {1:.3f}, 재현율: {2:.3f}'.format(acccuracy,precision,recall))"
   ]
  },
  {
   "cell_type": "code",
   "execution_count": null,
   "id": "fe7545d4-aac0-4aa2-b4e9-7914fc52c1f5",
   "metadata": {},
   "outputs": [],
   "source": [
    "print('ROC_AUC: {0:.3f}'.format(roc_auc))"
   ]
  },
  {
   "cell_type": "code",
   "execution_count": null,
   "id": "c5fbdc8f-98e8-46f3-a024-a790d8351add",
   "metadata": {},
   "outputs": [],
   "source": []
  }
 ],
 "metadata": {
  "kernelspec": {
   "display_name": "anaconda-2022.05-py39",
   "language": "python",
   "name": "conda-env-anaconda-2022.05-py39-py"
  },
  "language_info": {
   "codemirror_mode": {
    "name": "ipython",
    "version": 3
   },
   "file_extension": ".py",
   "mimetype": "text/x-python",
   "name": "python",
   "nbconvert_exporter": "python",
   "pygments_lexer": "ipython3",
   "version": "3.9.12"
  }
 },
 "nbformat": 4,
 "nbformat_minor": 5
}
