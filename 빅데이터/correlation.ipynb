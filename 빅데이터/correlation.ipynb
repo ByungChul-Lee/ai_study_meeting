{
 "cells": [
  {
   "cell_type": "code",
   "execution_count": null,
   "id": "43e64ce5-dddf-4767-8b41-5a225ec6e1cf",
   "metadata": {},
   "outputs": [],
   "source": [
    "import seaborn as sns\n",
    "import pandas as pd"
   ]
  },
  {
   "cell_type": "code",
   "execution_count": null,
   "id": "f08efc49-fee5-42d7-8d69-7ab1f3233e46",
   "metadata": {},
   "outputs": [],
   "source": [
    "titanic=sns.load_dataset(\"titanic\")\n",
    "titanic.to_csv('titanic.csv',index=False)"
   ]
  },
  {
   "cell_type": "code",
   "execution_count": null,
   "id": "46b63ce3-b601-414a-80d0-057befbc928f",
   "metadata": {},
   "outputs": [],
   "source": [
    "titanic.isnull().sum()"
   ]
  },
  {
   "cell_type": "code",
   "execution_count": null,
   "id": "bf332cd2-2c15-4251-b90d-2a468a73bcdc",
   "metadata": {},
   "outputs": [],
   "source": [
    "titanic['age']=titanic['age'].fillna(titanic['age'].median())"
   ]
  },
  {
   "cell_type": "code",
   "execution_count": null,
   "id": "c6f85f17-61b5-40c7-b652-261bd2b3736b",
   "metadata": {},
   "outputs": [],
   "source": [
    "titanic['embarked'].value_counts()"
   ]
  },
  {
   "cell_type": "code",
   "execution_count": null,
   "id": "c739314f-823e-4a33-8e54-b6faa94250d9",
   "metadata": {},
   "outputs": [],
   "source": [
    "titanic['embarked']=titanic['embarked'].fillna('S')"
   ]
  },
  {
   "cell_type": "code",
   "execution_count": null,
   "id": "4cb26f30-a414-414b-a508-d9165f904f25",
   "metadata": {},
   "outputs": [],
   "source": [
    "titanic['embarked'].value_counts()"
   ]
  },
  {
   "cell_type": "code",
   "execution_count": null,
   "id": "aac09de1-ff49-44e7-a131-643ba21a2efa",
   "metadata": {},
   "outputs": [],
   "source": [
    "titanic['embark_town'].value_counts()"
   ]
  },
  {
   "cell_type": "code",
   "execution_count": null,
   "id": "da5bd70b-9fa7-48b8-93dc-e8518d78e295",
   "metadata": {},
   "outputs": [],
   "source": [
    "titanic['embark_town']=titanic['embark_town'].fillna('Southampton')"
   ]
  },
  {
   "cell_type": "code",
   "execution_count": null,
   "id": "86a454cd-4cec-4b1b-a5a8-55b1f0411145",
   "metadata": {},
   "outputs": [],
   "source": [
    "titanic['embark_town'].value_counts()"
   ]
  },
  {
   "cell_type": "code",
   "execution_count": null,
   "id": "4ea900b8-82cd-41e9-a0f8-52293b691bda",
   "metadata": {},
   "outputs": [],
   "source": [
    "titanic['deck'].value_counts()"
   ]
  },
  {
   "cell_type": "code",
   "execution_count": null,
   "id": "7123f525-4f8c-43ae-a167-dcf5583f232e",
   "metadata": {},
   "outputs": [],
   "source": [
    "titanic['deck']=titanic['deck'].fillna('C')"
   ]
  },
  {
   "cell_type": "code",
   "execution_count": null,
   "id": "9a06ea74-85fd-40f0-b26f-fd80ac18ba49",
   "metadata": {},
   "outputs": [],
   "source": [
    "titanic.isnull().sum()"
   ]
  },
  {
   "cell_type": "code",
   "execution_count": null,
   "id": "8eb7564f-96a8-4523-aa18-9cb299317a51",
   "metadata": {},
   "outputs": [],
   "source": [
    "titanic.info()"
   ]
  },
  {
   "cell_type": "code",
   "execution_count": null,
   "id": "abedf4c4-a6c0-4519-a7fc-23a78fb2c916",
   "metadata": {},
   "outputs": [],
   "source": [
    "titanic.survived.value_counts()"
   ]
  },
  {
   "cell_type": "code",
   "execution_count": null,
   "id": "7eca3053-d856-4000-82ba-31c035a3dffb",
   "metadata": {},
   "outputs": [],
   "source": [
    "import matplotlib.pyplot as plt"
   ]
  },
  {
   "cell_type": "code",
   "execution_count": null,
   "id": "f58f92b6-cc1b-49bf-b2f7-aa140e87808d",
   "metadata": {},
   "outputs": [],
   "source": [
    "f,ax=plt.subplots(1, 2, figsize=(10,5))\n",
    "titanic['survived'][titanic['sex']=='male'].value_counts().plot.pie(explode=[0,0.1],autopct='%1.1f%%',ax=ax[0],shadow=True)\n",
    "titanic['survived'][titanic['sex']=='female'].value_counts().plot.pie(explode=[0,0.1],autopct='%1.1f%%',ax=ax[1],shadow=True)\n",
    "ax[0].set_title('Survived (Male)')\n",
    "ax[1].set_title('Survived (Female)')\n",
    "plt.show()"
   ]
  },
  {
   "cell_type": "code",
   "execution_count": null,
   "id": "6cab4b88-d949-4a62-b0f2-8e99402d52a0",
   "metadata": {},
   "outputs": [],
   "source": [
    "sns.countplot(x='pclass', hue='survived', data=titanic)\n",
    "plt.title('Pclass vs Survived')\n",
    "plt.show()"
   ]
  },
  {
   "cell_type": "code",
   "execution_count": null,
   "id": "b9f6e550-4f4f-426f-b60e-29186b833a21",
   "metadata": {},
   "outputs": [],
   "source": [
    "titanic_corr=titanic.corr(method='pearson')\n",
    "titanic_corr\n",
    "titanic_corr.to_csv('titanic_corr.csv', index=False)"
   ]
  },
  {
   "cell_type": "code",
   "execution_count": null,
   "id": "2e23bc8f-743d-472b-a3f8-8445ab56acb4",
   "metadata": {},
   "outputs": [],
   "source": [
    "titanic_corr"
   ]
  },
  {
   "cell_type": "code",
   "execution_count": null,
   "id": "3672f4dc-ff06-4890-86c8-8476d63fb351",
   "metadata": {},
   "outputs": [],
   "source": [
    "titanic['survived'].corr(titanic['adult_male'])"
   ]
  },
  {
   "cell_type": "code",
   "execution_count": null,
   "id": "54bf2e84-dc39-4bf5-b9d4-10bd6e8ab4ea",
   "metadata": {},
   "outputs": [],
   "source": [
    "titanic['survived'].corr(titanic['fare'])"
   ]
  },
  {
   "cell_type": "code",
   "execution_count": null,
   "id": "6da9c816-3463-4c53-a692-ffefb2c9f40a",
   "metadata": {},
   "outputs": [],
   "source": [
    "sns.catplot(x='pclass', y='survived', hue='sex', data=titanic, kind='point')\n",
    "plt.show()"
   ]
  },
  {
   "cell_type": "code",
   "execution_count": null,
   "id": "cf745863-1756-4e84-8dce-a4b128969c1c",
   "metadata": {},
   "outputs": [],
   "source": [
    "def category_age(x):\n",
    "    if x < 10:\n",
    "        return 0\n",
    "    elif x < 20:\n",
    "        return 1\n",
    "    elif x <30:\n",
    "        return 2\n",
    "    elif x < 40:\n",
    "        return 3\n",
    "    elif x < 50:\n",
    "        return 4\n",
    "    elif x < 60:\n",
    "        return 5\n",
    "    elif x < 70:\n",
    "        return 6\n",
    "    else:\n",
    "        return 7"
   ]
  },
  {
   "cell_type": "code",
   "execution_count": null,
   "id": "fd0c7605-372b-4a1e-851a-c45bac7b454c",
   "metadata": {},
   "outputs": [],
   "source": [
    "titanic['age2']=titanic['age'].apply(category_age)\n",
    "titanic['sex']=titanic['sex'].map({'male':1, 'female':0})\n",
    "titanic['family']=titanic['sibsp']+titanic['parch']+1\n",
    "titanic.to_csv('titanic3.csv', index=False)"
   ]
  },
  {
   "cell_type": "code",
   "execution_count": null,
   "id": "c728220c-d997-4458-9dfc-23decae2534e",
   "metadata": {},
   "outputs": [],
   "source": [
    "heatmap_data=titanic[['survived', 'sex', 'age2', 'family', 'pclass', 'fare']]\n",
    "colormap=plt.cm.RdBu\n",
    "sns.heatmap(heatmap_data.astype(float).corr(), linewidths=0.1, vmax=1.0, square=True, cmap=colormap, linecolor='white', annot=True, annot_kws={\"size\": 10})\n",
    "plt.show()"
   ]
  },
  {
   "cell_type": "code",
   "execution_count": null,
   "id": "4f649a25-ebb1-471d-bb6b-5f728b8ae853",
   "metadata": {},
   "outputs": [],
   "source": []
  }
 ],
 "metadata": {
  "kernelspec": {
   "display_name": "anaconda-2022.05-py39",
   "language": "python",
   "name": "conda-env-anaconda-2022.05-py39-py"
  },
  "language_info": {
   "codemirror_mode": {
    "name": "ipython",
    "version": 3
   },
   "file_extension": ".py",
   "mimetype": "text/x-python",
   "name": "python",
   "nbconvert_exporter": "python",
   "pygments_lexer": "ipython3",
   "version": "3.9.12"
  }
 },
 "nbformat": 4,
 "nbformat_minor": 5
}
