{
 "cells": [
  {
   "cell_type": "code",
   "execution_count": null,
   "id": "e4f98404-2b3a-4162-bd12-0abb284daf52",
   "metadata": {},
   "outputs": [],
   "source": [
    "from sklearn.tree import DecisionTreeClassifier\n",
    "from sklearn.datasets import load_iris\n",
    "from sklearn.model_selection import train_test_split\n",
    "import warnings\n",
    "warnings.filterwarnings('ignore')"
   ]
  },
  {
   "cell_type": "code",
   "execution_count": null,
   "id": "8094f88f-96c2-4e0a-8218-2f762ef3c7c8",
   "metadata": {},
   "outputs": [],
   "source": [
    "# 붓꽃 데이터를 로딩\n",
    "iris_data = load_iris()"
   ]
  },
  {
   "cell_type": "code",
   "execution_count": null,
   "id": "bde71983-3109-4c30-aaff-2a10785b28bf",
   "metadata": {},
   "outputs": [],
   "source": [
    "iris_data.feature_names"
   ]
  },
  {
   "cell_type": "code",
   "execution_count": null,
   "id": "0f252ad9-87fc-4663-babe-de8cf22d1070",
   "metadata": {},
   "outputs": [],
   "source": [
    "iris_data.target_names"
   ]
  },
  {
   "cell_type": "code",
   "execution_count": null,
   "id": "672fad05-b41c-4a6f-a979-c7e0cf44c2c7",
   "metadata": {},
   "outputs": [],
   "source": [
    "# 학습과 테스트 데이터 셋으로 분리\n",
    "X_train, X_test, y_train, y_test = train_test_split(iris_data.data, iris_data.target, test_size=0.2, random_state=11)"
   ]
  },
  {
   "cell_type": "code",
   "execution_count": null,
   "id": "93108bd7-69fb-47b9-a525-5971c6cbff69",
   "metadata": {},
   "outputs": [],
   "source": [
    "# DecisionTreeClassifier 생성\n",
    "dt_clf = DecisionTreeClassifier(random_state=156)"
   ]
  },
  {
   "cell_type": "code",
   "execution_count": null,
   "id": "2be9eca0-63b0-43e2-b342-eff18c129c80",
   "metadata": {},
   "outputs": [],
   "source": [
    "# DecisionTreeClassifer 학습\n",
    "dt_clf.fit(X_train, y_train)"
   ]
  },
  {
   "cell_type": "code",
   "execution_count": null,
   "id": "cfbb1cc7-4c2c-48c4-8418-4389c38af3e4",
   "metadata": {},
   "outputs": [],
   "source": [
    "!pip install graphviz"
   ]
  },
  {
   "cell_type": "code",
   "execution_count": null,
   "id": "e67b4d4f-ff58-4a5d-ae91-71e425440928",
   "metadata": {},
   "outputs": [],
   "source": [
    "from sklearn.tree import export_graphviz\n",
    "\n",
    "# export_graphviz()의 호출 결과로 out_file로 지정된 tree.dot 파일을 생성함\n",
    "export_graphviz(dt_clf, out_file=\"tree.dot\", class_names=iris_data.target_names, feature_names=iris_data.feature_names, impurity=True, filled=True)"
   ]
  },
  {
   "cell_type": "code",
   "execution_count": null,
   "id": "7ef78bae-3a35-488e-8b07-a26f0e2bc8d3",
   "metadata": {},
   "outputs": [],
   "source": [
    "import graphviz\n",
    "\n",
    "# 위에서 생성된 tree.dot 파일을 Graphviz 읽어서 시각화\n",
    "with open(\"tree.dot\") as f:\n",
    "    dot_graph = f.read()\n",
    "graphviz.Source(dot_graph)"
   ]
  },
  {
   "cell_type": "code",
   "execution_count": null,
   "id": "2c5093a8-6c7b-4fa1-b7ca-cd19ea0bd89a",
   "metadata": {},
   "outputs": [],
   "source": [
    "import numpy as np\n",
    "import pandas as pd"
   ]
  },
  {
   "cell_type": "code",
   "execution_count": null,
   "id": "3c3d4d74-c7c0-4d45-8476-ae8fd519c054",
   "metadata": {},
   "outputs": [],
   "source": [
    "# 피처 이름 파일 읽어오기\n",
    "feature_name_df = pd.read_csv('features.txt', sep = '\\s+', header = None, names = ['index', 'feature_name'], engine = 'python')\n",
    "feature_name_df"
   ]
  },
  {
   "cell_type": "code",
   "execution_count": null,
   "id": "71c16c83-5c47-4ea3-b471-aa00da39905b",
   "metadata": {},
   "outputs": [],
   "source": [
    "feature_name_df.head()"
   ]
  },
  {
   "cell_type": "code",
   "execution_count": null,
   "id": "fb395365-1042-4f2e-9a86-539ee55b5f26",
   "metadata": {},
   "outputs": [],
   "source": [
    "feature_dup_df = feature_name_df.groupby('feature_name').count()\n",
    "feature_dup_df"
   ]
  },
  {
   "cell_type": "code",
   "execution_count": null,
   "id": "bb7f784e-5aa8-4536-a69e-65ad6e1265e8",
   "metadata": {},
   "outputs": [],
   "source": [
    "feature_dup_df = feature_name_df.groupby('feature_name').count()\n",
    "print(feature_dup_df[feature_dup_df['index'] > 1].count())\n",
    "feature_dup_df[feature_dup_df['index'] > 1]"
   ]
  },
  {
   "cell_type": "code",
   "execution_count": null,
   "id": "65e3a74d-2cfe-45d9-a2dc-005c9ae8ca1d",
   "metadata": {},
   "outputs": [],
   "source": [
    "def get_new_feature_name_df(old_feature_name_df):\n",
    "    feature_dup_df = pd.DataFrame(data=old_feature_name_df.groupby('feature_name').cumcount(), columns=['dup_cnt'])\n",
    "    feature_dup_df = feature_dup_df.reset_index()\n",
    "    new_feature_name_df = pd.merge(feature_name_df.drop(columns='index').reset_index(), feature_dup_df, how='outer')\n",
    "    new_feature_name_df['feature_name'] = new_feature_name_df[['feature_name', 'dup_cnt']].apply(lambda x : x[0]+'_'+str(x[1]) \n",
    "                                                                                         if x[1]>0 else x[0],  axis=1)\n",
    "    new_feature_name_df = new_feature_name_df.drop(['index'], axis=1)\n",
    "    return new_feature_name_df"
   ]
  },
  {
   "cell_type": "code",
   "execution_count": null,
   "id": "fe783dc0-aecc-49d8-a1c9-19f834d45eec",
   "metadata": {},
   "outputs": [],
   "source": [
    "# 중복된 피처명을 수정하는 get_new_feature_name_df()를 이용, 신규 피처명 DataFrame 생성\n",
    "new_feature_name_df = get_new_feature_name_df(feature_name_df)\n",
    "new_feature_dup_df = new_feature_name_df.groupby('feature_name').count()\n",
    "new_feature_dup_df"
   ]
  },
  {
   "cell_type": "code",
   "execution_count": null,
   "id": "3f507acd-8d19-4a0b-b4be-da722609a9f3",
   "metadata": {},
   "outputs": [],
   "source": [
    "print(new_feature_dup_df[new_feature_dup_df['dup_cnt'] > 1].count())\n",
    "new_feature_dup_df[new_feature_dup_df['dup_cnt'] > 1]"
   ]
  },
  {
   "cell_type": "code",
   "execution_count": null,
   "id": "33862c62-2ce0-441e-93cb-b527037291ec",
   "metadata": {},
   "outputs": [],
   "source": [
    "# DataFrame에 피처명을 컬럼으로 부여하기 위해 리스트 객체로 다시 변환\n",
    "feature_name = new_feature_name_df.iloc[:, 0].values.tolist()\n",
    "feature_name"
   ]
  },
  {
   "cell_type": "code",
   "execution_count": null,
   "id": "7986d9f0-5dd4-4e69-a2ac-fe03b67bcff9",
   "metadata": {},
   "outputs": [],
   "source": [
    "X_train = pd.read_csv('X_train.txt', sep='\\s+', names = feature_name, engine = 'python')\n",
    "X_test = pd.read_csv('X_test.txt', sep='\\s+', names = feature_name, engine = 'python')\n",
    "Y_train = pd.read_csv('y_train.txt', sep='\\s+', header = None, names = ['action'], engine = 'python')\n",
    "Y_test = pd.read_csv('y_test.txt' , sep = '\\s+', header = None, names = ['action'], engine = 'python')"
   ]
  },
  {
   "cell_type": "code",
   "execution_count": null,
   "id": "d91fe8ce-da91-4d84-94ce-ab3f267dcd45",
   "metadata": {},
   "outputs": [],
   "source": [
    "X_train.shape, Y_train.shape, X_test.shape, Y_test.shape"
   ]
  },
  {
   "cell_type": "code",
   "execution_count": null,
   "id": "00b3b3fd-b801-4660-bf18-4396e493197c",
   "metadata": {},
   "outputs": [],
   "source": [
    "X_train.head()"
   ]
  },
  {
   "cell_type": "code",
   "execution_count": null,
   "id": "b964c3ee-3688-48d8-b7fd-f6ca563e5dad",
   "metadata": {},
   "outputs": [],
   "source": [
    "print(Y_train['action'].value_counts())"
   ]
  },
  {
   "cell_type": "code",
   "execution_count": null,
   "id": "c6471d18-9501-43cf-b73b-eb8f532e6803",
   "metadata": {},
   "outputs": [],
   "source": [
    "label_name_df = pd.read_csv('activity_labels.txt', sep = '\\s+', header = None, names = ['index', 'label'], engine = 'python')"
   ]
  },
  {
   "cell_type": "code",
   "execution_count": null,
   "id": "7ae11df6-d8e0-49b7-9207-274c449778ec",
   "metadata": {},
   "outputs": [],
   "source": [
    "# index 제거하고, feature_name만 리스트로 저장\n",
    "label_name = label_name_df.iloc[:, 1].values.tolist()\n",
    "label_name"
   ]
  },
  {
   "cell_type": "code",
   "execution_count": null,
   "id": "43401981-d1d4-4077-90b6-a43e1a03996d",
   "metadata": {},
   "outputs": [],
   "source": [
    "from sklearn.tree import DecisionTreeClassifier"
   ]
  },
  {
   "cell_type": "code",
   "execution_count": null,
   "id": "d05b9987-2bdf-4f05-b4b8-e182fe90d236",
   "metadata": {},
   "outputs": [],
   "source": [
    "# 결정 트리 분류 분석: 모델 생성\n",
    "dt_HAR = DecisionTreeClassifier(random_state=156)"
   ]
  },
  {
   "cell_type": "code",
   "execution_count": null,
   "id": "5dd4c38a-bd17-432b-a302-bbc5de8cc7c6",
   "metadata": {},
   "outputs": [],
   "source": [
    "# 결정 트리 분류 분석: 모델 훈련\n",
    "dt_HAR.fit(X_train, Y_train)"
   ]
  },
  {
   "cell_type": "code",
   "execution_count": null,
   "id": "bd5e1d8c-a192-408b-8e38-217778be9707",
   "metadata": {},
   "outputs": [],
   "source": [
    "# 결정 트리 분류 분석: 평가 데이터에 예측 수행 -> 예측 결과로 Y_predict 구하기\n",
    "Y_predict = dt_HAR.predict(X_test)"
   ]
  },
  {
   "cell_type": "code",
   "execution_count": null,
   "id": "bf5d7f96-08e3-4408-b194-4a781bce055b",
   "metadata": {},
   "outputs": [],
   "source": [
    "from sklearn.metrics import accuracy_score"
   ]
  },
  {
   "cell_type": "code",
   "execution_count": null,
   "id": "daf5c8da-dab8-4267-ab06-ddb2915fd5fb",
   "metadata": {},
   "outputs": [],
   "source": [
    "accuracy = accuracy_score(Y_test, Y_predict)\n",
    "print('결정 트리 예측 정확도: {0:.4f}'.format(accuracy))"
   ]
  },
  {
   "cell_type": "code",
   "execution_count": null,
   "id": "24665ecd-2c18-49e7-96a4-2f88c21dedd9",
   "metadata": {},
   "outputs": [],
   "source": [
    "print('결정 트리의 현재 하이퍼 매개변수: \\n', dt_HAR.get_params())"
   ]
  },
  {
   "cell_type": "code",
   "execution_count": null,
   "id": "a7ce2080-2c21-46ac-a5d2-f6df286f4c55",
   "metadata": {},
   "outputs": [],
   "source": [
    "from sklearn.model_selection import GridSearchCV"
   ]
  },
  {
   "cell_type": "code",
   "execution_count": null,
   "id": "ce9395d5-22a2-4f99-88f1-48b8120a048c",
   "metadata": {},
   "outputs": [],
   "source": [
    "params = {\n",
    " 'max_depth' : [6, 8, 10, 12, 16, 20, 24]\n",
    "}\n",
    "\n",
    "grid_cv = GridSearchCV(dt_HAR, param_grid = params, scoring = 'accuracy', cv = 5, return_train_score = True)\n",
    "\n",
    "grid_cv.fit(X_train, Y_train)"
   ]
  },
  {
   "cell_type": "code",
   "execution_count": null,
   "id": "cc080591-7e2f-44ee-9941-8f18c0c7155c",
   "metadata": {},
   "outputs": [],
   "source": [
    "cv_results_df = pd.DataFrame(grid_cv.cv_results_)\n",
    "\n",
    "cv_results_df[['param_max_depth', 'mean_test_score', 'mean_train_score']]"
   ]
  },
  {
   "cell_type": "code",
   "execution_count": null,
   "id": "cf6cfa1e-2050-48fd-839e-1136849d408d",
   "metadata": {},
   "outputs": [],
   "source": [
    "print('최고 평균 정확도: {0:.4f}, 최적 하이퍼 매개변수: {1}'.format(grid_cv.best_score_, grid_cv.best_params_))"
   ]
  },
  {
   "cell_type": "code",
   "execution_count": null,
   "id": "40193b48-fbc0-43a2-b979-f4281f4b2f23",
   "metadata": {},
   "outputs": [],
   "source": [
    "params = {\n",
    " 'max_depth' : [8, 16, 20],\n",
    " 'min_samples_split' : [8, 16, 24]\n",
    "}\n",
    "grid_cv = GridSearchCV(dt_HAR, param_grid = params, scoring = 'accuracy', cv = 5, return_train_score = True)\n",
    "grid_cv.fit(X_train, Y_train)"
   ]
  },
  {
   "cell_type": "code",
   "execution_count": null,
   "id": "b096f14e-baad-4ec2-86ae-b1e40bb2e2d4",
   "metadata": {},
   "outputs": [],
   "source": [
    "cv_results_df = pd.DataFrame(grid_cv.cv_results_)\n",
    "cv_results_df[['param_max_depth', 'param_min_samples_split', 'mean_test_score', 'mean_train_score']]"
   ]
  },
  {
   "cell_type": "code",
   "execution_count": null,
   "id": "ae8af8a8-9ee2-482e-a23a-28dd2dba6ae6",
   "metadata": {},
   "outputs": [],
   "source": [
    "print('최고 평균 정확도: {0:.4f}, 최적 하이퍼 매개변수: {1}'.format(grid_cv.best_score_, grid_cv.best_params_))"
   ]
  },
  {
   "cell_type": "code",
   "execution_count": null,
   "id": "b6dba386-cddd-4a8d-ac50-f62182915a49",
   "metadata": {},
   "outputs": [],
   "source": [
    "best_dt_HAR = grid_cv.best_estimator_\n",
    "best_Y_predict = best_dt_HAR.predict(X_test)\n",
    "best_accuracy = accuracy_score(Y_test, best_Y_predict)\n",
    "print('best 결정 트리 예측 정확도: {0:.4f}'.format(best_accuracy))"
   ]
  },
  {
   "cell_type": "code",
   "execution_count": null,
   "id": "b8208d15-3440-49ba-ab33-68f5e0f35346",
   "metadata": {},
   "outputs": [],
   "source": [
    "import seaborn as sns\n",
    "import matplotlib.pyplot as plt"
   ]
  },
  {
   "cell_type": "code",
   "execution_count": null,
   "id": "c3f2af3b-93ef-4a39-8c9d-9994a802bb90",
   "metadata": {},
   "outputs": [],
   "source": [
    "feature_importance_values = best_dt_HAR.feature_importances_\n",
    "feature_importance_values_s = pd.Series(feature_importance_values, index = X_train.columns)"
   ]
  },
  {
   "cell_type": "code",
   "execution_count": null,
   "id": "412dd054-ce9b-4464-bc09-92847ed9cc4a",
   "metadata": {},
   "outputs": [],
   "source": [
    "feature_top10 = feature_importance_values_s.sort_values(ascending = False)[:10]"
   ]
  },
  {
   "cell_type": "code",
   "execution_count": null,
   "id": "41e2d8a4-3e81-4be1-b1c5-441b0c4e91bc",
   "metadata": {},
   "outputs": [],
   "source": [
    "plt.figure(figsize = (10, 5))\n",
    "plt.title('Feature Top 10')\n",
    "sns.barplot(x = feature_top10, y = feature_top10.index)\n",
    "plt.show()"
   ]
  },
  {
   "cell_type": "code",
   "execution_count": null,
   "id": "32025e95-9b2d-4007-a4d5-76518c869da4",
   "metadata": {},
   "outputs": [],
   "source": [
    "from sklearn.tree import export_graphviz\n",
    "#export_graphviz()의 호출 결과로 out_file로 지정된 tree.dot 파일 생성\n",
    "export_graphviz(best_dt_HAR, out_file = \"tree.dot\", class_names = label_name, feature_names = feature_name, impurity = True, filled = True)"
   ]
  },
  {
   "cell_type": "code",
   "execution_count": null,
   "id": "87820f38-27e8-4838-aa12-e1f324a43f4d",
   "metadata": {},
   "outputs": [],
   "source": [
    "import graphviz\n",
    "#위에서 생성된 tree.dot 파일을 Graphviz가 읽어서 시각화\n",
    "with open(\"tree.dot\") as f:\n",
    "   dot_graph = f.read()\n",
    "graphviz.Source(dot_graph)"
   ]
  },
  {
   "cell_type": "code",
   "execution_count": null,
   "id": "33d48f32-d6c4-442b-a8b4-98540e337ccb",
   "metadata": {},
   "outputs": [],
   "source": []
  }
 ],
 "metadata": {
  "kernelspec": {
   "display_name": "anaconda-2022.05-py39",
   "language": "python",
   "name": "conda-env-anaconda-2022.05-py39-py"
  },
  "language_info": {
   "codemirror_mode": {
    "name": "ipython",
    "version": 3
   },
   "file_extension": ".py",
   "mimetype": "text/x-python",
   "name": "python",
   "nbconvert_exporter": "python",
   "pygments_lexer": "ipython3",
   "version": "3.9.12"
  }
 },
 "nbformat": 4,
 "nbformat_minor": 5
}
