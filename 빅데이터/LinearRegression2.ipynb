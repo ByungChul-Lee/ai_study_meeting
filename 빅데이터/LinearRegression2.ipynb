{
 "cells": [
  {
   "cell_type": "code",
   "execution_count": null,
   "id": "e3d979a5",
   "metadata": {},
   "outputs": [],
   "source": [
    "import numpy as np\n",
    "import pandas as pd"
   ]
  },
  {
   "cell_type": "code",
   "execution_count": null,
   "id": "bd9ebd31",
   "metadata": {},
   "outputs": [],
   "source": [
    "data_df = pd.read_csv('auto-mpg.csv', header = 0, engine = 'python')\n",
    "data_df"
   ]
  },
  {
   "cell_type": "code",
   "execution_count": null,
   "id": "8f920f07",
   "metadata": {},
   "outputs": [],
   "source": [
    "print('데이터셋 크기: ', data_df.shape)"
   ]
  },
  {
   "cell_type": "code",
   "execution_count": null,
   "id": "0155620b",
   "metadata": {},
   "outputs": [],
   "source": [
    "data_df.head()"
   ]
  },
  {
   "cell_type": "code",
   "execution_count": null,
   "id": "842ce836",
   "metadata": {},
   "outputs": [],
   "source": [
    "data_df.info()"
   ]
  },
  {
   "cell_type": "code",
   "execution_count": null,
   "id": "d04b5406-dead-4970-9a2f-1ac4b79a0dd4",
   "metadata": {},
   "outputs": [],
   "source": [
    "data_df = data_df.drop(['car_name', 'origin', 'horsepower'], axis = 1, inplace = False)"
   ]
  },
  {
   "cell_type": "code",
   "execution_count": null,
   "id": "373b2f1e",
   "metadata": {},
   "outputs": [],
   "source": [
    "data_df.head()"
   ]
  },
  {
   "cell_type": "code",
   "execution_count": null,
   "id": "ef28c37e",
   "metadata": {},
   "outputs": [],
   "source": [
    "print('데이터셋 크기: ', data_df.shape)"
   ]
  },
  {
   "cell_type": "code",
   "execution_count": null,
   "id": "26abce63",
   "metadata": {},
   "outputs": [],
   "source": [
    "data_df.info()"
   ]
  },
  {
   "cell_type": "code",
   "execution_count": null,
   "id": "b2d2c0c8",
   "metadata": {},
   "outputs": [],
   "source": [
    "from sklearn.linear_model import LinearRegression\n",
    "from sklearn.model_selection import train_test_split\n",
    "from sklearn.metrics import mean_squared_error, r2_score"
   ]
  },
  {
   "cell_type": "code",
   "execution_count": null,
   "id": "a3df2c8d",
   "metadata": {},
   "outputs": [],
   "source": [
    "# X, Y 분할하기\n",
    "Y = data_df['mpg']\n",
    "X = data_df.drop(['mpg'], axis = 1, inplace = False)"
   ]
  },
  {
   "cell_type": "code",
   "execution_count": null,
   "id": "62398dbb",
   "metadata": {},
   "outputs": [],
   "source": [
    "# 훈련용 데이터와 평가용 데이터 분할하기\n",
    "X_train, X_test, Y_train, Y_test = train_test_split(X, Y, test_size = 0.3, random_state = 0)"
   ]
  },
  {
   "cell_type": "code",
   "execution_count": null,
   "id": "55651eef",
   "metadata": {},
   "outputs": [],
   "source": [
    "# 선형 회귀 분석 : 모델 생성\n",
    "lr = LinearRegression()"
   ]
  },
  {
   "cell_type": "code",
   "execution_count": null,
   "id": "e2f11bc8",
   "metadata": {},
   "outputs": [],
   "source": [
    "# 선형 회귀 분석 : 모델 훈련\n",
    "lr.fit(X_train, Y_train)"
   ]
  },
  {
   "cell_type": "code",
   "execution_count": null,
   "id": "906a8266",
   "metadata": {},
   "outputs": [],
   "source": [
    "# 선형 회귀 분석 : 평가 데이터에 대한 예측 수행 -> 예측 결과 Y_predict 구하기\n",
    "Y_predict = lr.predict(X_test)"
   ]
  },
  {
   "cell_type": "code",
   "execution_count": null,
   "id": "df2666c0",
   "metadata": {},
   "outputs": [],
   "source": [
    "# 평가\n",
    "mse = mean_squared_error(Y_test, Y_predict)\n",
    "rmse = np.sqrt(mse)\n",
    "print('MSE : {0:.3f}, RMSE : {1:.3f}'.format(mse, rmse))\n",
    "print('R^2(Variance score) : {0:.3f}'.format(r2_score(Y_test, Y_predict)))"
   ]
  },
  {
   "cell_type": "code",
   "execution_count": null,
   "id": "ba5bb042",
   "metadata": {},
   "outputs": [],
   "source": [
    "print('Y 절편 값: ', np.round(lr.intercept_, 2))\n",
    "print('회귀 계수 값: ', np.round(lr.coef_, 2))"
   ]
  },
  {
   "cell_type": "code",
   "execution_count": null,
   "id": "e729cb77",
   "metadata": {},
   "outputs": [],
   "source": [
    "coef = pd.Series(data = np.round(lr.coef_, 2), index = X.columns)\n",
    "coef.sort_values(ascending = False)"
   ]
  },
  {
   "cell_type": "code",
   "execution_count": null,
   "id": "9aaecb42",
   "metadata": {},
   "outputs": [],
   "source": [
    "import matplotlib.pyplot as plt\n",
    "import seaborn as sns"
   ]
  },
  {
   "cell_type": "code",
   "execution_count": null,
   "id": "98d3bd5c",
   "metadata": {},
   "outputs": [],
   "source": [
    "fig, axs = plt.subplots(figsize = (16, 16), ncols = 3, nrows = 2)\n",
    "x_features = ['model_year', 'acceleration', 'displacement', 'weight', 'cylinders']\n",
    "plot_color = ['r', 'b', 'y', 'g', 'r']\n",
    "for i, feature in enumerate(x_features):\n",
    "  row = int(i/3)\n",
    "  col = i%3\n",
    "  sns.regplot(x = feature, y = 'mpg', data = data_df, ax = axs[row][col],\n",
    "    color = plot_color[i])"
   ]
  },
  {
   "cell_type": "code",
   "execution_count": null,
   "id": "33df77ba-c9db-4a68-b7a4-cd3c8b50d129",
   "metadata": {},
   "outputs": [],
   "source": [
    "print(\"연비를 예측하고 싶은 차의 정보를 입력해주세요.\")\n",
    "cylinders_1 = int(input(\"cylinders : \"))\n",
    "displacement_1 = int(input(\"displacement : \"))\n",
    "weight_1 = int(input(\"weight : \"))\n",
    "acceleration_1 = int(input(\"acceleration : \"))\n",
    "model_year_1 = int(input(\"model_year : \"))\n",
    "\n",
    "mpg_predict = lr.predict([[cylinders_1, displacement_1, weight_1, acceleration_1 , model_year_1]])\n",
    "\n",
    "print(\"이 자동차의 예상 연비(MPG)는 %.2f입니다.\" %mpg_predict)"
   ]
  },
  {
   "cell_type": "code",
   "execution_count": null,
   "id": "d4b508c7",
   "metadata": {},
   "outputs": [],
   "source": [
    "from statsmodels.formula.api import ols"
   ]
  },
  {
   "cell_type": "code",
   "execution_count": null,
   "id": "c3e7988f-cf5f-403f-bbec-e7ca068431af",
   "metadata": {},
   "outputs": [],
   "source": [
    "# 훈련용 데이터와 평가용 데이터 분할하기\n",
    "data_train, data_test = train_test_split(data_df, test_size = 0.3, random_state = 0)"
   ]
  },
  {
   "cell_type": "code",
   "execution_count": null,
   "id": "37329306",
   "metadata": {},
   "outputs": [],
   "source": [
    "lr=ols(formula='mpg ~ model_year + acceleration + displacement + weight + cylinders', data = data_train)\n",
    "result=lr.fit()\n",
    "result.summary()"
   ]
  },
  {
   "cell_type": "code",
   "execution_count": null,
   "id": "43feb17a-d326-4c59-b953-865ece31d3b8",
   "metadata": {},
   "outputs": [],
   "source": [
    "# 선형 회귀 분석 : 평가 데이터에 대한 예측 수행 -> 예측 결과 Y_predict 구하기\n",
    "Y_predict = result.predict(data_test)\n",
    "\n",
    "# 평가\n",
    "mse = mean_squared_error(data_test['mpg'], Y_predict)\n",
    "rmse = np.sqrt(mse)\n",
    "print('MSE : {0:.3f}, RMSE : {1:.3f}'.format(mse, rmse))\n",
    "print('R^2(Variance score) : {0:.3f}'.format(r2_score(Y_test, Y_predict)))"
   ]
  },
  {
   "cell_type": "code",
   "execution_count": null,
   "id": "cc070927",
   "metadata": {},
   "outputs": [],
   "source": [
    "lr=ols(formula='mpg ~ model_year + acceleration + displacement + weight', data = data_df)\n",
    "result=lr.fit()\n",
    "result.summary()"
   ]
  },
  {
   "cell_type": "code",
   "execution_count": null,
   "id": "0f65392e-29de-4828-b3a3-015b1a475215",
   "metadata": {},
   "outputs": [],
   "source": [
    "lr=ols(formula='mpg ~ model_year + acceleration + weight', data = data_df)\n",
    "result=lr.fit()\n",
    "result.summary()"
   ]
  },
  {
   "cell_type": "code",
   "execution_count": null,
   "id": "97fde1de-1301-4f04-ac0f-92cb2ecd17e3",
   "metadata": {},
   "outputs": [],
   "source": [
    "lr=ols(formula='mpg ~ model_year + weight', data = data_df)\n",
    "result=lr.fit()\n",
    "result.summary()"
   ]
  },
  {
   "cell_type": "code",
   "execution_count": null,
   "id": "6aeb13f5-3555-44e2-ab3d-3131c80b984a",
   "metadata": {},
   "outputs": [],
   "source": [
    "# 선형 회귀 분석 : 평가 데이터에 대한 예측 수행 -> 예측 결과 Y_predict 구하기\n",
    "Y_predict = result.predict(data_test)\n",
    "\n",
    "# 평가\n",
    "mse = mean_squared_error(data_test['mpg'], Y_predict)\n",
    "rmse = np.sqrt(mse)\n",
    "print('MSE : {0:.3f}, RMSE : {1:.3f}'.format(mse, rmse))\n",
    "print('R^2(Variance score) : {0:.3f}'.format(r2_score(Y_test, Y_predict)))"
   ]
  },
  {
   "cell_type": "code",
   "execution_count": null,
   "id": "8eed9871-3666-4de0-8097-2f9e71644d9a",
   "metadata": {},
   "outputs": [],
   "source": []
  }
 ],
 "metadata": {
  "kernelspec": {
   "display_name": "anaconda-2022.05-py39",
   "language": "python",
   "name": "conda-env-anaconda-2022.05-py39-py"
  },
  "language_info": {
   "codemirror_mode": {
    "name": "ipython",
    "version": 3
   },
   "file_extension": ".py",
   "mimetype": "text/x-python",
   "name": "python",
   "nbconvert_exporter": "python",
   "pygments_lexer": "ipython3",
   "version": "3.9.12"
  }
 },
 "nbformat": 4,
 "nbformat_minor": 5
}
