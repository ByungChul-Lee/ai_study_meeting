{
 "cells": [
  {
   "cell_type": "code",
   "execution_count": null,
   "id": "a528b158",
   "metadata": {},
   "outputs": [],
   "source": [
    "import pandas as pd\n",
    "import math"
   ]
  },
  {
   "cell_type": "code",
   "execution_count": null,
   "id": "9dc5e775",
   "metadata": {},
   "outputs": [],
   "source": [
    "retail_df = pd.read_excel('Online_Retail.xlsx')\n",
    "retail_df.head()"
   ]
  },
  {
   "cell_type": "code",
   "execution_count": null,
   "id": "bd6286ab",
   "metadata": {},
   "outputs": [],
   "source": [
    "retail_df.info()"
   ]
  },
  {
   "cell_type": "code",
   "execution_count": null,
   "id": "6f15aa73",
   "metadata": {},
   "outputs": [],
   "source": [
    "# 오류 데이터 정제\n",
    "retail_df = retail_df[retail_df['Quantity']>0]\n",
    "retail_df = retail_df[retail_df['UnitPrice']>0]\n",
    "retail_df = retail_df[retail_df['CustomerID'].notnull()]\n",
    "\n",
    "# 'CustomerID' 자료형을 정수형으로 변환\n",
    "retail_df['CustomerID'] = retail_df['CustomerID'].astype(int)\n",
    "\n",
    "retail_df.info()\n",
    "print(retail_df.isnull().sum())\n",
    "print(retail_df.shape)"
   ]
  },
  {
   "cell_type": "code",
   "execution_count": null,
   "id": "222db770",
   "metadata": {},
   "outputs": [],
   "source": [
    "# 중복 레코드 제거\n",
    "retail_df.drop_duplicates(inplace = True)\n",
    "print(retail_df.shape) # 작업 확인용 출력"
   ]
  },
  {
   "cell_type": "code",
   "execution_count": null,
   "id": "2df0ea57",
   "metadata": {},
   "outputs": [],
   "source": [
    "pd.DataFrame([{'Product':len(retail_df['StockCode'].value_counts()),'Transaction':len(retail_df['InvoiceNo'].value_counts()), 'Customer':len(retail_df['CustomerID'].value_counts())}], columns = ['Product', 'Transaction', 'Customer'], index = ['counts'])"
   ]
  },
  {
   "cell_type": "code",
   "execution_count": null,
   "id": "0596fc2d",
   "metadata": {},
   "outputs": [],
   "source": [
    "retail_df['Country'].value_counts()"
   ]
  },
  {
   "cell_type": "code",
   "execution_count": null,
   "id": "e5585e39",
   "metadata": {},
   "outputs": [],
   "source": [
    "# 주문 금액 컬럼 추가\n",
    "retail_df['SaleAmount'] = retail_df['UnitPrice']*retail_df['Quantity']\n",
    "retail_df.head() # 작업 확인용 출력"
   ]
  },
  {
   "cell_type": "code",
   "execution_count": null,
   "id": "e2041529",
   "metadata": {},
   "outputs": [],
   "source": [
    "aggregations = {\n",
    " 'InvoiceNo':'count',\n",
    " 'SaleAmount':'sum',\n",
    " 'InvoiceDate':'max'\n",
    "}\n",
    "\n",
    "customer_df = retail_df.groupby('CustomerID').agg(aggregations)\n",
    "customer_df = customer_df.reset_index()\n",
    "customer_df.head() # 작업 확인용 출력"
   ]
  },
  {
   "cell_type": "code",
   "execution_count": null,
   "id": "7cd8c570",
   "metadata": {},
   "outputs": [],
   "source": [
    "customer_df = customer_df.rename(columns = {'InvoiceNo':'Freq', 'InvoiceDate':'ElapsedDays'})\n",
    "customer_df.head() # 작업 확인용 출력"
   ]
  },
  {
   "cell_type": "code",
   "execution_count": null,
   "id": "fd7297f6",
   "metadata": {},
   "outputs": [],
   "source": [
    "import datetime\n",
    "\n",
    "customer_df['ElapsedDays'] = datetime.datetime(2011,12,10) - customer_df['ElapsedDays']\n",
    "customer_df.head() # 작업 확인용 출력"
   ]
  },
  {
   "cell_type": "code",
   "execution_count": null,
   "id": "c5c71c99",
   "metadata": {},
   "outputs": [],
   "source": [
    "customer_df['ElapsedDays'] = customer_df['ElapsedDays'].apply(lambda x: x.days+1)\n",
    "customer_df.head() # 작업 확인용 출력"
   ]
  },
  {
   "cell_type": "code",
   "execution_count": null,
   "id": "32ac55b1",
   "metadata": {},
   "outputs": [],
   "source": [
    "import matplotlib.pyplot as plt\n",
    "import seaborn as sns\n",
    "\n",
    "fig, ax = plt.subplots()\n",
    "ax.boxplot([customer_df['Freq'], customer_df['SaleAmount'], customer_df['ElapsedDays']], sym = 'bo')\n",
    "plt.xticks([1, 2, 3], ['Freq', 'SaleAmount','ElapsedDays'])\n",
    "plt.show()"
   ]
  },
  {
   "cell_type": "code",
   "execution_count": null,
   "id": "6413d799",
   "metadata": {},
   "outputs": [],
   "source": [
    "import numpy as np\n",
    "\n",
    "customer_df['Freq_log'] = np.log1p(customer_df['Freq'])\n",
    "customer_df['SaleAmount_log'] = np.log1p(customer_df['SaleAmount'])\n",
    "customer_df['ElapsedDays_log'] = np.log1p(customer_df['ElapsedDays'])\n",
    "customer_df.head() # 작업 확인용 출력"
   ]
  },
  {
   "cell_type": "code",
   "execution_count": null,
   "id": "72282915",
   "metadata": {},
   "outputs": [],
   "source": [
    "fig, ax = plt.subplots()\n",
    "ax.boxplot([customer_df['Freq_log'], customer_df['SaleAmount_log'], customer_df['ElapsedDays_log']], sym = 'bo')\n",
    "plt.xticks([1, 2, 3], ['Freq_log', 'SaleAmount_log', 'ElapsedDays_log'])\n",
    "plt.show()"
   ]
  },
  {
   "cell_type": "code",
   "execution_count": null,
   "id": "17fb7b21",
   "metadata": {},
   "outputs": [],
   "source": [
    "from sklearn.cluster import KMeans\n",
    "from sklearn.metrics import silhouette_score, silhouette_samples"
   ]
  },
  {
   "cell_type": "code",
   "execution_count": null,
   "id": "4deddd70",
   "metadata": {},
   "outputs": [],
   "source": [
    "X_features = customer_df[['Freq_log', 'SaleAmount_log', 'ElapsedDays_log']].values"
   ]
  },
  {
   "cell_type": "code",
   "execution_count": null,
   "id": "edf30fee",
   "metadata": {},
   "outputs": [],
   "source": [
    "from sklearn.preprocessing import StandardScaler \n",
    "X_features_scaled = StandardScaler().fit_transform(X_features)"
   ]
  },
  {
   "cell_type": "code",
   "execution_count": null,
   "id": "f42cf61e",
   "metadata": {},
   "outputs": [],
   "source": [
    "distortions = []\n",
    "\n",
    "for i in range(1, 11):\n",
    "    kmeans_i = KMeans(n_clusters = i, random_state = 0) # 모델 생성\n",
    "    kmeans_i.fit(X_features_scaled)                     # 모델 훈련\n",
    "    distortions.append(kmeans_i.inertia_)\n",
    "\n",
    "plt.plot(range(1,11), distortions, marker = 'o')\n",
    "plt.xlabel('Number of clusters')\n",
    "plt.ylabel('Distortion')\n",
    "plt.show()"
   ]
  },
  {
   "cell_type": "code",
   "execution_count": null,
   "id": "d003fe3b",
   "metadata": {},
   "outputs": [],
   "source": [
    "kmeans = KMeans(n_clusters=3, random_state=0) # 모델 생성\n",
    "# 모델 학습과 결과 예측(클러스터 레이블 생성)\n",
    "Y_labels = kmeans.fit_predict(X_features_scaled)"
   ]
  },
  {
   "cell_type": "code",
   "execution_count": null,
   "id": "38ea8670",
   "metadata": {},
   "outputs": [],
   "source": [
    "customer_df['ClusterLabel'] = Y_labels\n",
    "customer_df.head() # 작업 확인용 출력"
   ]
  },
  {
   "cell_type": "code",
   "execution_count": null,
   "id": "bf694cb3",
   "metadata": {},
   "outputs": [],
   "source": [
    "from matplotlib import cm\n",
    "\n",
    "def silhouetteViz(n_cluster, X_features):\n",
    "    kmeans = KMeans(n_clusters = n_cluster, random_state = 0)\n",
    "    Y_labels = kmeans.fit_predict(X_features)\n",
    "    \n",
    "    silhouette_values = silhouette_samples(X_features, Y_labels, metric = 'euclidean')\n",
    "    \n",
    "    y_ax_lower, y_ax_upper = 0, 0\n",
    "    y_ticks = []\n",
    "    \n",
    "    for c in range(n_cluster):\n",
    "        c_silhouettes = silhouette_values[Y_labels == c]\n",
    "        c_silhouettes.sort()\n",
    "        y_ax_upper += len(c_silhouettes)\n",
    "        color = cm.jet(float(c) / n_cluster)\n",
    "        plt.barh(range(y_ax_lower, y_ax_upper), c_silhouettes, height = 1.0, edgecolor = 'none', color = color)\n",
    "        y_ticks.append((y_ax_lower + y_ax_upper) / 2.)\n",
    "        y_ax_lower += len(c_silhouettes)\n",
    "        \n",
    "    silhouette_avg = np.mean(silhouette_values)\n",
    "    plt.axvline(silhouette_avg, color = 'red', linestyle = '--')\n",
    "    plt.title('Number of Cluster : '+ str(n_cluster) + '\\n' + 'Silhouette Score : '+ str(round(silhouette_avg,3)))\n",
    "    plt.yticks(y_ticks, range(n_cluster))\n",
    "    plt.xticks([0, 0.2, 0.4, 0.6, 0.8, 1])\n",
    "    plt.ylabel('Cluster')\n",
    "    plt.xlabel('Silhouette coefficient')\n",
    "    plt.tight_layout()\n",
    "    plt.show()"
   ]
  },
  {
   "cell_type": "code",
   "execution_count": null,
   "id": "fea1a046",
   "metadata": {},
   "outputs": [],
   "source": [
    "def clusterScatter(n_cluster, X_features):\n",
    "    c_colors = []\n",
    "    kmeans = KMeans(n_clusters = n_cluster, random_state = 0)\n",
    "    Y_labels = kmeans.fit_predict(X_features)\n",
    "    \n",
    "    for i in range(n_cluster):\n",
    "        c_color = cm.jet(float(i) / n_cluster) # 클러스터의 색상 설정\n",
    "        c_colors.append(c_color)\n",
    "        # 클러스터의 데이터 분포를 동그라미로 시각화\n",
    "        plt.scatter(X_features[Y_labels == i,0], X_features[Y_labels == i,1], marker = 'o', color =  c_color, edgecolor = 'black', s = 50, label = 'cluster '+ str(i))\n",
    "        \n",
    "    # 각 클러스터의 중심점을 삼각형으로 표시\n",
    "    for i in range(n_cluster):\n",
    "        plt.scatter(kmeans.cluster_centers_[i,0], kmeans.cluster_centers_[i,1], marker = '^', color = c_colors[i], edgecolor = 'w', s = 200)\n",
    "\n",
    "    plt.legend()\n",
    "    plt.grid()\n",
    "    plt.tight_layout()\n",
    "    plt.show()"
   ]
  },
  {
   "cell_type": "code",
   "execution_count": null,
   "id": "4a8ae8d0",
   "metadata": {},
   "outputs": [],
   "source": [
    "silhouetteViz(3, X_features_scaled)"
   ]
  },
  {
   "cell_type": "code",
   "execution_count": null,
   "id": "1c1789c3",
   "metadata": {},
   "outputs": [],
   "source": [
    "silhouetteViz(4, X_features_scaled)"
   ]
  },
  {
   "cell_type": "code",
   "execution_count": null,
   "id": "50b26cd6",
   "metadata": {},
   "outputs": [],
   "source": [
    "silhouetteViz(5, X_features_scaled)"
   ]
  },
  {
   "cell_type": "code",
   "execution_count": null,
   "id": "f8fb6d89",
   "metadata": {},
   "outputs": [],
   "source": [
    "silhouetteViz(6, X_features_scaled)"
   ]
  },
  {
   "cell_type": "code",
   "execution_count": null,
   "id": "7bda305c",
   "metadata": {},
   "outputs": [],
   "source": [
    "clusterScatter(3, X_features_scaled)"
   ]
  },
  {
   "cell_type": "code",
   "execution_count": null,
   "id": "88e240f5",
   "metadata": {},
   "outputs": [],
   "source": [
    "clusterScatter(4, X_features_scaled)"
   ]
  },
  {
   "cell_type": "code",
   "execution_count": null,
   "id": "6740881b",
   "metadata": {},
   "outputs": [],
   "source": [
    "clusterScatter(5, X_features_scaled)"
   ]
  },
  {
   "cell_type": "code",
   "execution_count": null,
   "id": "a3e8d797",
   "metadata": {},
   "outputs": [],
   "source": [
    "clusterScatter(6, X_features_scaled)"
   ]
  },
  {
   "cell_type": "code",
   "execution_count": null,
   "id": "f7ce8be7",
   "metadata": {},
   "outputs": [],
   "source": [
    "best_cluster = 4\n",
    "kmeans = KMeans(n_clusters = best_cluster, random_state = 0)\n",
    "Y_labels = kmeans.fit_predict(X_features_scaled)"
   ]
  },
  {
   "cell_type": "code",
   "execution_count": null,
   "id": "1b117d18",
   "metadata": {},
   "outputs": [],
   "source": [
    "customer_df['ClusterLabel'] = Y_labels\n",
    "customer_df.head()"
   ]
  },
  {
   "cell_type": "code",
   "execution_count": null,
   "id": "3c241dde",
   "metadata": {},
   "outputs": [],
   "source": [
    "customer_df.to_csv('Online_Retail_Customer_Cluster.csv')"
   ]
  },
  {
   "cell_type": "code",
   "execution_count": null,
   "id": "1323b9bd",
   "metadata": {},
   "outputs": [],
   "source": [
    "customer_df.groupby('ClusterLabel')['CustomerID'].count()"
   ]
  },
  {
   "cell_type": "code",
   "execution_count": null,
   "id": "e96b4d86",
   "metadata": {},
   "outputs": [],
   "source": [
    "customer_cluster_df = customer_df.drop(['Freq_log', 'SaleAmount_log', 'ElapsedDays_log'], axis = 1, inplace = False)"
   ]
  },
  {
   "cell_type": "code",
   "execution_count": null,
   "id": "af0c23d6",
   "metadata": {},
   "outputs": [],
   "source": [
    "# 주문 1회당 평균 구매금액: SaleAmountAvg\n",
    "customer_cluster_df['SaleAmountAvg'] = customer_cluster_df['SaleAmount']/customer_cluster_df['Freq']\n",
    "customer_cluster_df.head()"
   ]
  },
  {
   "cell_type": "code",
   "execution_count": null,
   "id": "f6694eb0",
   "metadata": {},
   "outputs": [],
   "source": [
    "customer_cluster_df.drop(['CustomerID'], axis = 1, inplace = False).groupby('ClusterLabel').mean()"
   ]
  },
  {
   "cell_type": "code",
   "execution_count": null,
   "id": "d611b485-5fb0-43a9-a299-7aa327d7fedc",
   "metadata": {},
   "outputs": [],
   "source": []
  }
 ],
 "metadata": {
  "kernelspec": {
   "display_name": "anaconda-2022.05-py39",
   "language": "python",
   "name": "conda-env-anaconda-2022.05-py39-py"
  },
  "language_info": {
   "codemirror_mode": {
    "name": "ipython",
    "version": 3
   },
   "file_extension": ".py",
   "mimetype": "text/x-python",
   "name": "python",
   "nbconvert_exporter": "python",
   "pygments_lexer": "ipython3",
   "version": "3.9.12"
  }
 },
 "nbformat": 4,
 "nbformat_minor": 5
}
