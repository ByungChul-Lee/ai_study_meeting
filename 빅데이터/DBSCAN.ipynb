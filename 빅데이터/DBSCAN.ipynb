{
 "cells": [
  {
   "cell_type": "code",
   "execution_count": null,
   "id": "74b7ca7b-2a99-4bb7-9c3b-c36aa6336ad0",
   "metadata": {},
   "outputs": [],
   "source": [
    "!pip install mglearn"
   ]
  },
  {
   "cell_type": "code",
   "execution_count": null,
   "id": "d67c2487-f5c8-411d-93bd-c94ff04262fb",
   "metadata": {},
   "outputs": [],
   "source": [
    "from IPython.display import display\n",
    "import numpy as np\n",
    "import matplotlib.pyplot as plt\n",
    "import pandas as pd\n",
    "import mglearn"
   ]
  },
  {
   "cell_type": "code",
   "execution_count": null,
   "id": "f07fcd3a-3952-4270-a4c3-9ea96702ad1b",
   "metadata": {},
   "outputs": [],
   "source": [
    "from sklearn.datasets import make_blobs"
   ]
  },
  {
   "cell_type": "code",
   "execution_count": null,
   "id": "962da26b-c706-4188-9177-6a4a50b4cfe2",
   "metadata": {},
   "outputs": [],
   "source": [
    "from scipy.cluster.hierarchy import dendrogram, ward"
   ]
  },
  {
   "cell_type": "code",
   "execution_count": null,
   "id": "d276712a-1dae-4c7b-b28c-fcb24721c498",
   "metadata": {},
   "outputs": [],
   "source": [
    "X, y = make_blobs(random_state=0, n_samples=12)\n",
    "\n",
    "mglearn.discrete_scatter(X[:,0], X[:,1], markers='o')"
   ]
  },
  {
   "cell_type": "code",
   "execution_count": null,
   "id": "97f2919a-b3ac-4348-aa98-90491076771e",
   "metadata": {},
   "outputs": [],
   "source": [
    "linkage_array = ward(X)"
   ]
  },
  {
   "cell_type": "code",
   "execution_count": null,
   "id": "8902a4c2-cc19-4138-8cce-d68cdb119322",
   "metadata": {},
   "outputs": [],
   "source": [
    "dendrogram(linkage_array)\n",
    "\n",
    "ax=plt.gca()\n",
    "bounds=ax.get_xbound()\n",
    "ax.plot(bounds, [7.25, 7.25], '--', c='k')\n",
    "ax.plot(bounds, [4, 4], '--', c='k')\n",
    "\n",
    "ax.text(bounds[1], 7.25, ' two clusters', va='center', fontdict={'size':15})\n",
    "ax.text(bounds[1], 4, ' three clusters', va='center', fontdict={'size':15})\n",
    "plt.xlabel(\"Sample index\")\n",
    "plt.ylabel(\"Cluster distance\")"
   ]
  },
  {
   "cell_type": "code",
   "execution_count": null,
   "id": "fd6c960a-7fec-4cbf-b7a5-810b0d068647",
   "metadata": {},
   "outputs": [],
   "source": [
    "from sklearn.preprocessing import StandardScaler\n",
    "from sklearn.datasets import make_moons\n",
    "from sklearn.cluster import DBSCAN"
   ]
  },
  {
   "cell_type": "code",
   "execution_count": null,
   "id": "24e7f3ba-e7ff-49b3-a8bf-3e6d9f9c64bc",
   "metadata": {},
   "outputs": [],
   "source": [
    "X, y = make_moons(n_samples=200, noise=0.05, random_state=0)"
   ]
  },
  {
   "cell_type": "code",
   "execution_count": null,
   "id": "641fd23d-b83d-400d-87a4-ef56cd1a9e4d",
   "metadata": {},
   "outputs": [],
   "source": [
    "scaler = StandardScaler()\n",
    "scaler.fit(X)\n",
    "X_scaled = scaler.transform(X)"
   ]
  },
  {
   "cell_type": "code",
   "execution_count": null,
   "id": "6ebbab81-8471-4caf-9a16-ff9d6736d81f",
   "metadata": {},
   "outputs": [],
   "source": [
    "dbscan = DBSCAN()\n",
    "cluster = dbscan.fit_predict(X_scaled)"
   ]
  },
  {
   "cell_type": "code",
   "execution_count": null,
   "id": "594feb3a-1f83-45a0-8218-098ba26b97ff",
   "metadata": {},
   "outputs": [],
   "source": [
    "plt.scatter(X_scaled[:,0], X_scaled[:,1], c=cluster, cmap=mglearn.cm2, s=60)\n",
    "plt.xlabel(\"Feature 0\")\n",
    "plt.ylabel(\"Feature 1\")"
   ]
  },
  {
   "cell_type": "code",
   "execution_count": null,
   "id": "a302c7cf-f654-42dc-8845-0d9787611575",
   "metadata": {},
   "outputs": [],
   "source": [
    "from sklearn.cluster import KMeans"
   ]
  },
  {
   "cell_type": "code",
   "execution_count": null,
   "id": "278e6382-27f4-4e43-ac1e-1ae25460e3cd",
   "metadata": {},
   "outputs": [],
   "source": [
    "# Comparison\n",
    "X, y = make_blobs(random_state=170, n_samples=600)\n",
    "rng = np.random.RandomState(74)\n",
    "\n",
    "transformation = rng.normal(size=(2,2))\n",
    "X = np.dot(X, transformation)"
   ]
  },
  {
   "cell_type": "code",
   "execution_count": null,
   "id": "ba608491-ccee-4e13-ab43-7699188b2360",
   "metadata": {},
   "outputs": [],
   "source": [
    "kmeans = KMeans(n_clusters=3)\n",
    "kmeans.fit(X)"
   ]
  },
  {
   "cell_type": "code",
   "execution_count": null,
   "id": "f647f85b-e4b2-498a-90f4-191b3fa3eb25",
   "metadata": {},
   "outputs": [],
   "source": [
    "mglearn.discrete_scatter(X[:,0], X[:,1], kmeans.labels_, markers='o')\n",
    "mglearn.discrete_scatter(kmeans.cluster_centers_[:,0],\n",
    "                         kmeans.cluster_centers_[:,1],\n",
    "                         [0,1,2], markers='^', markeredgewidth=2)\n",
    "plt.xlabel(\"Feature 0\")\n",
    "plt.ylabel(\"Feature 1\")"
   ]
  },
  {
   "cell_type": "code",
   "execution_count": null,
   "id": "6946e866-ee79-4507-b216-b546c4a6e508",
   "metadata": {},
   "outputs": [],
   "source": [
    "scaler = StandardScaler()\n",
    "scaler.fit(X)\n",
    "X_scaled = scaler.transform(X)"
   ]
  },
  {
   "cell_type": "code",
   "execution_count": null,
   "id": "32757f26-9c09-43de-8f2a-8da6099e77cd",
   "metadata": {},
   "outputs": [],
   "source": [
    "dbscan = DBSCAN(min_samples=3, eps=0.2)\n",
    "clusters = dbscan.fit_predict(X_scaled)"
   ]
  },
  {
   "cell_type": "code",
   "execution_count": null,
   "id": "a26f9452-dc3c-45eb-924f-c9877ecd6b98",
   "metadata": {},
   "outputs": [],
   "source": [
    "mglearn.discrete_scatter(X_scaled[:,0], X_scaled[:,1], clusters, markers='o')\n",
    "plt.xlabel(\"Feature 0\")\n",
    "plt.ylabel(\"Feature 1\")"
   ]
  },
  {
   "cell_type": "code",
   "execution_count": null,
   "id": "df67c25b-0d0b-4d5a-a0ac-b56741cda49f",
   "metadata": {},
   "outputs": [],
   "source": []
  }
 ],
 "metadata": {
  "kernelspec": {
   "display_name": "anaconda-2022.05-py39",
   "language": "python",
   "name": "conda-env-anaconda-2022.05-py39-py"
  },
  "language_info": {
   "codemirror_mode": {
    "name": "ipython",
    "version": 3
   },
   "file_extension": ".py",
   "mimetype": "text/x-python",
   "name": "python",
   "nbconvert_exporter": "python",
   "pygments_lexer": "ipython3",
   "version": "3.9.12"
  }
 },
 "nbformat": 4,
 "nbformat_minor": 5
}
