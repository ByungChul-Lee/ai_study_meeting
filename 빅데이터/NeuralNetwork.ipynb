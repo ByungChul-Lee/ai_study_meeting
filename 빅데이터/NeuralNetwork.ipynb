{
 "cells": [
  {
   "cell_type": "code",
   "execution_count": null,
   "id": "28e4f394-3bac-499c-9e3d-cb2a0167d29c",
   "metadata": {},
   "outputs": [],
   "source": [
    "from sklearn.datasets import load_iris\n",
    "from sklearn.model_selection import train_test_split\n",
    "from sklearn.metrics import accuracy_score"
   ]
  },
  {
   "cell_type": "code",
   "execution_count": null,
   "id": "19d711e6-4233-4b36-900b-ce222429b0e8",
   "metadata": {},
   "outputs": [],
   "source": [
    "# 붓꽃 데이터를 로딩\n",
    "iris_data = load_iris()\n",
    "\n",
    "# 학습 데이터 셋과 테스트 데이터 셋으로 분리\n",
    "X_train, X_test, y_train, y_test = train_test_split(iris_data.data, iris_data.target, test_size=0.3, random_state=11)"
   ]
  },
  {
   "cell_type": "code",
   "execution_count": null,
   "id": "a6ba50f5-85c6-4a1c-84b9-c87bee162c06",
   "metadata": {},
   "outputs": [],
   "source": [
    "# Decision tree\n",
    "from sklearn.tree import DecisionTreeClassifier\n",
    "\n",
    "dt_clf = DecisionTreeClassifier(random_state=156)\n",
    "dt_clf.fit(X_train, y_train)\n",
    "y_predict = dt_clf.predict(X_test)\n",
    "\n",
    "accuracy = accuracy_score(y_test, y_predict)\n",
    "print('Decision Tree 예측 정확도: {0:.4f}'.format(accuracy))"
   ]
  },
  {
   "cell_type": "code",
   "execution_count": null,
   "id": "1ffd3be8-2c0a-476b-819f-2ab2eefca63a",
   "metadata": {},
   "outputs": [],
   "source": [
    "# Neural network\n",
    "from sklearn.neural_network import MLPClassifier\n",
    "\n",
    "mlp_clf = MLPClassifier(solver='lbfgs', random_state=0, hidden_layer_sizes=[10])\n",
    "mlp_clf.fit(X_train, y_train)\n",
    "y_predict = mlp_clf.predict(X_test)\n",
    "\n",
    "accuracy = accuracy_score(y_test, y_predict)\n",
    "print('Neural network 예측 정확도: {0:.4f}'.format(accuracy))"
   ]
  },
  {
   "cell_type": "code",
   "execution_count": null,
   "id": "b2eb636c-a45b-4f9f-9539-b20be92c9fd7",
   "metadata": {},
   "outputs": [],
   "source": []
  }
 ],
 "metadata": {
  "kernelspec": {
   "display_name": "anaconda-2022.05-py39",
   "language": "python",
   "name": "conda-env-anaconda-2022.05-py39-py"
  },
  "language_info": {
   "codemirror_mode": {
    "name": "ipython",
    "version": 3
   },
   "file_extension": ".py",
   "mimetype": "text/x-python",
   "name": "python",
   "nbconvert_exporter": "python",
   "pygments_lexer": "ipython3",
   "version": "3.9.12"
  }
 },
 "nbformat": 4,
 "nbformat_minor": 5
}
