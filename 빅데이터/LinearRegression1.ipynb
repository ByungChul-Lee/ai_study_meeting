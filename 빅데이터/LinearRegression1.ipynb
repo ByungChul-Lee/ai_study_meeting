{
 "cells": [
  {
   "cell_type": "code",
   "execution_count": null,
   "id": "4007adc7-46a5-4bc0-a616-a1dad6f2c523",
   "metadata": {},
   "outputs": [],
   "source": [
    "import numpy as np\n",
    "import pandas as pd"
   ]
  },
  {
   "cell_type": "code",
   "execution_count": null,
   "id": "cbec4284-b038-41a6-b3e9-7138a7aad621",
   "metadata": {},
   "outputs": [],
   "source": [
    "from sklearn.datasets import load_boston\n",
    "boston = load_boston()"
   ]
  },
  {
   "cell_type": "code",
   "execution_count": null,
   "id": "763e0959-cacb-4655-a3d2-fb0ed42cefd2",
   "metadata": {},
   "outputs": [],
   "source": [
    "print(boston.DESCR)"
   ]
  },
  {
   "cell_type": "code",
   "execution_count": null,
   "id": "522e2a1b-e74d-45b8-9247-0f26d9fadd76",
   "metadata": {},
   "outputs": [],
   "source": [
    "boston_df = pd.DataFrame(boston.data, columns=boston.feature_names)"
   ]
  },
  {
   "cell_type": "code",
   "execution_count": null,
   "id": "f5ceffaf-1c08-4fa6-97d4-b9300601c940",
   "metadata": {},
   "outputs": [],
   "source": [
    "boston_df.head()"
   ]
  },
  {
   "cell_type": "code",
   "execution_count": null,
   "id": "5daa6c7f-15b4-4da5-9808-b079ccada415",
   "metadata": {},
   "outputs": [],
   "source": [
    "boston_df['PRICE'] = boston.target"
   ]
  },
  {
   "cell_type": "code",
   "execution_count": null,
   "id": "2bdd122c-6a19-47ce-9627-a888a951333d",
   "metadata": {},
   "outputs": [],
   "source": [
    "boston_df.head()"
   ]
  },
  {
   "cell_type": "code",
   "execution_count": null,
   "id": "60112fc8-fb3f-4ce4-9506-84a6159e65f9",
   "metadata": {},
   "outputs": [],
   "source": [
    "print('보스톤 주택 가격 데이터셋 크기: ', boston_df.shape)"
   ]
  },
  {
   "cell_type": "code",
   "execution_count": null,
   "id": "e41356d4-2f88-412b-86c9-01beca356275",
   "metadata": {},
   "outputs": [],
   "source": [
    "boston_df.info()"
   ]
  },
  {
   "cell_type": "code",
   "execution_count": null,
   "id": "cd6f07ab-4ff0-4d76-9163-c539e560de9a",
   "metadata": {},
   "outputs": [],
   "source": [
    "from sklearn.linear_model import LinearRegression\n",
    "from sklearn.model_selection import train_test_split\n",
    "from sklearn.metrics import mean_squared_error, r2_score"
   ]
  },
  {
   "cell_type": "code",
   "execution_count": null,
   "id": "1c606817-d07b-4f96-8fee-4b11244813d3",
   "metadata": {},
   "outputs": [],
   "source": [
    "#X, Y 분할하기\n",
    "Y = boston_df['PRICE']\n",
    "X = boston_df.drop(['PRICE'], axis = 1, inplace = False)"
   ]
  },
  {
   "cell_type": "code",
   "execution_count": null,
   "id": "91e6eaa2-417e-4157-9550-89779757ba53",
   "metadata": {},
   "outputs": [],
   "source": [
    "#훈련용 데이터와 평가용 데이터 분할하기\n",
    "X_train, X_test, Y_train, Y_test = train_test_split(X, Y, test_size = 0.3, random_state = 156)"
   ]
  },
  {
   "cell_type": "code",
   "execution_count": null,
   "id": "21f92d1d-cef1-49e6-8b2b-7b4b75156024",
   "metadata": {},
   "outputs": [],
   "source": [
    "#선형 회귀 분석 : 모델 생성\n",
    "lr = LinearRegression()\n",
    "\n",
    "#선형 회귀 분석 : 모델 훈련\n",
    "lr.fit(X_train, Y_train)"
   ]
  },
  {
   "cell_type": "code",
   "execution_count": null,
   "id": "70304d7c-457d-4aa8-b0f4-be17bf2d72a0",
   "metadata": {},
   "outputs": [],
   "source": [
    "#선형 회귀 분석 : 평가 데이터에 대한 예측 수행 -> 예측 결과 Y_predict 구하기\n",
    "Y_predict = lr.predict(X_test)"
   ]
  },
  {
   "cell_type": "code",
   "execution_count": null,
   "id": "3074e220-d192-4a16-bf3e-028f939489f2",
   "metadata": {},
   "outputs": [],
   "source": [
    "mse = mean_squared_error(Y_test, Y_predict)\n",
    "rmse = np.sqrt(mse)\n",
    "print('MSE : {0:.3f}, RMSE : {1:.3f}'.format(mse, rmse))\n",
    "print('R^2(Variance score) : {0:.3f}'.format(r2_score(Y_test, Y_predict)))"
   ]
  },
  {
   "cell_type": "code",
   "execution_count": null,
   "id": "41681f9f-4dcd-4018-856e-23a4db02bd80",
   "metadata": {},
   "outputs": [],
   "source": [
    "print('Y 절편 값: ', lr.intercept_)\n",
    "print('회귀 계수 값: ', np.round(lr.coef_, 1))"
   ]
  },
  {
   "cell_type": "code",
   "execution_count": null,
   "id": "ba421717-8748-412c-b2ff-ec7ba35faf74",
   "metadata": {},
   "outputs": [],
   "source": [
    "coef = pd.Series(data = np.round(lr.coef_, 2), index = X.columns)\n",
    "coef.sort_values(ascending = False)"
   ]
  },
  {
   "cell_type": "code",
   "execution_count": null,
   "id": "4bade39e-e320-4fa4-803e-f8ce543be509",
   "metadata": {},
   "outputs": [],
   "source": [
    "import matplotlib.pyplot as plt\n",
    "import seaborn as sns"
   ]
  },
  {
   "cell_type": "code",
   "execution_count": null,
   "id": "5220a479-98c4-46cf-811a-75147a7d2c96",
   "metadata": {},
   "outputs": [],
   "source": [
    "fig, axs = plt.subplots(figsize = (16, 16), ncols = 3, nrows = 5)\n",
    "\n",
    "x_features = ['CRIM', 'ZN', 'INDUS', 'CHAS', 'NOX', 'RM', 'AGE', 'DIS', 'RAD', 'TAX', 'PTRATIO', 'B', 'LSTAT']\n",
    "\n",
    "for i, feature in enumerate(x_features):\n",
    "   row = int(i/3)\n",
    "   col = i%3\n",
    "   sns.regplot(x = feature, y = 'PRICE', data = boston_df, ax = axs[row][col])\n",
    "\n",
    "plt.show()"
   ]
  },
  {
   "cell_type": "code",
   "execution_count": null,
   "id": "3174d82d-3c76-4614-ae15-9ef46e83ef49",
   "metadata": {},
   "outputs": [],
   "source": [
    "# Backward Elimination\n",
    "import statsmodels.api as sma"
   ]
  },
  {
   "cell_type": "code",
   "execution_count": null,
   "id": "8e7909eb-69dd-421c-9164-2749d748aa9c",
   "metadata": {},
   "outputs": [],
   "source": [
    "X_train"
   ]
  },
  {
   "cell_type": "code",
   "execution_count": null,
   "id": "21cbb370-1bec-474a-8f99-fb53243face5",
   "metadata": {},
   "outputs": [],
   "source": [
    "X_train2=sma.add_constant(X_train)\n",
    "X_test2=sma.add_constant(X_test)\n",
    "X_train2"
   ]
  },
  {
   "cell_type": "code",
   "execution_count": null,
   "id": "3998e809-9717-4223-8c8e-a77a8047528e",
   "metadata": {},
   "outputs": [],
   "source": [
    "lr=sma.OLS(Y_train, X_train2)\n",
    "result=lr.fit()\n",
    "result.summary()"
   ]
  },
  {
   "cell_type": "code",
   "execution_count": null,
   "id": "63190fe4-445f-4485-b56c-6a590960a6dc",
   "metadata": {},
   "outputs": [],
   "source": [
    "X_train3=X_train2.drop('AGE', axis='columns')\n",
    "X_test3=X_test2.drop('AGE', axis='columns')\n",
    "X_train3"
   ]
  },
  {
   "cell_type": "code",
   "execution_count": null,
   "id": "2381f6ff-2339-4ce4-b670-9c5da4d0ef6d",
   "metadata": {},
   "outputs": [],
   "source": [
    "lr=sma.OLS(Y_train, X_train3)\n",
    "result=lr.fit()\n",
    "result.summary()"
   ]
  },
  {
   "cell_type": "code",
   "execution_count": null,
   "id": "77f72a6c-353d-4b85-8e9e-6d7a3d0e659b",
   "metadata": {},
   "outputs": [],
   "source": [
    "X_train4=X_train3.drop('INDUS', axis='columns')\n",
    "X_test4=X_test3.drop('INDUS', axis='columns')\n",
    "X_train4"
   ]
  },
  {
   "cell_type": "code",
   "execution_count": null,
   "id": "8b22e0c9-fc36-4770-af64-95c96a6a5741",
   "metadata": {},
   "outputs": [],
   "source": [
    "lr=sma.OLS(Y_train, X_train4)\n",
    "result=lr.fit()\n",
    "result.summary()"
   ]
  },
  {
   "cell_type": "code",
   "execution_count": null,
   "id": "b6398642-3c7e-48d7-b137-1fbf57a11107",
   "metadata": {},
   "outputs": [],
   "source": [
    "Y_predict = result.predict(X_test4)\n",
    "\n",
    "mse = mean_squared_error(Y_test, Y_predict)\n",
    "rmse = np.sqrt(mse)\n",
    "print('MSE : {0:.3f}, RMSE : {1:.3f}'.format(mse, rmse))\n",
    "print('R^2(Variance score) : {0:.3f}'.format(r2_score(Y_test, Y_predict)))"
   ]
  },
  {
   "cell_type": "code",
   "execution_count": null,
   "id": "cf8d7e55-3037-4f76-aa94-ef56728cb453",
   "metadata": {},
   "outputs": [],
   "source": []
  }
 ],
 "metadata": {
  "kernelspec": {
   "display_name": "anaconda-2022.05-py39",
   "language": "python",
   "name": "conda-env-anaconda-2022.05-py39-py"
  },
  "language_info": {
   "codemirror_mode": {
    "name": "ipython",
    "version": 3
   },
   "file_extension": ".py",
   "mimetype": "text/x-python",
   "name": "python",
   "nbconvert_exporter": "python",
   "pygments_lexer": "ipython3",
   "version": "3.9.12"
  }
 },
 "nbformat": 4,
 "nbformat_minor": 5
}
