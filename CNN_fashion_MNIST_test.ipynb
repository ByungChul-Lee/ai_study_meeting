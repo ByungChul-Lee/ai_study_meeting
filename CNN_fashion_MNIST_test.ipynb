{
  "nbformat": 4,
  "nbformat_minor": 0,
  "metadata": {
    "colab": {
      "name": "CNN_fashion_MNIST_test.ipynb",
      "provenance": [],
      "collapsed_sections": [],
      "authorship_tag": "ABX9TyPmGf+AMdzNjHtTjljkvNdY",
      "include_colab_link": true
    },
    "kernelspec": {
      "name": "python3",
      "display_name": "Python 3"
    },
    "language_info": {
      "name": "python"
    }
  },
  "cells": [
    {
      "cell_type": "markdown",
      "metadata": {
        "id": "view-in-github",
        "colab_type": "text"
      },
      "source": [
        "<a href=\"https://colab.research.google.com/github/ByungChul-Lee/ai_study_meeting/blob/main/CNN_fashion_MNIST_test.ipynb\" target=\"_parent\"><img src=\"https://colab.research.google.com/assets/colab-badge.svg\" alt=\"Open In Colab\"/></a>"
      ]
    },
    {
      "cell_type": "code",
      "execution_count": null,
      "metadata": {
        "id": "MLqlGG8zapS6"
      },
      "outputs": [],
      "source": [
        "import numpy as np\n",
        "import tensorflow as tf\n",
        "from tensorflow.keras.datasets import fashion_mnist\n",
        "from tensorflow.keras.models import Sequential\n",
        "from tensorflow.keras.layers import Conv2D, MaxPool2D\n",
        "from tensorflow.keras.layers import Flatten, Dense, Dropout\n"
      ]
    },
    {
      "cell_type": "code",
      "source": [
        "(x_train, y_train), (x_test, y_test) = fashion_mnist.load_data()"
      ],
      "metadata": {
        "colab": {
          "base_uri": "https://localhost:8080/"
        },
        "id": "afQX9ofnbcSk",
        "outputId": "79c4e5df-e609-4f74-9e1b-8be05a329d64"
      },
      "execution_count": null,
      "outputs": [
        {
          "output_type": "stream",
          "name": "stdout",
          "text": [
            "Downloading data from https://storage.googleapis.com/tensorflow/tf-keras-datasets/train-labels-idx1-ubyte.gz\n",
            "32768/29515 [=================================] - 0s 0us/step\n",
            "40960/29515 [=========================================] - 0s 0us/step\n",
            "Downloading data from https://storage.googleapis.com/tensorflow/tf-keras-datasets/train-images-idx3-ubyte.gz\n",
            "26427392/26421880 [==============================] - 0s 0us/step\n",
            "26435584/26421880 [==============================] - 0s 0us/step\n",
            "Downloading data from https://storage.googleapis.com/tensorflow/tf-keras-datasets/t10k-labels-idx1-ubyte.gz\n",
            "16384/5148 [===============================================================================================] - 0s 0us/step\n",
            "Downloading data from https://storage.googleapis.com/tensorflow/tf-keras-datasets/t10k-images-idx3-ubyte.gz\n",
            "4423680/4422102 [==============================] - 0s 0us/step\n",
            "4431872/4422102 [==============================] - 0s 0us/step\n"
          ]
        }
      ]
    },
    {
      "cell_type": "code",
      "source": [
        "x_train = x_train.reshape(-1, 28, 28, 1)\n",
        "x_test = x_test.reshape(-1, 28, 28, 1)\n",
        "\n",
        "print(x_train.shape, x_test.shape)\n",
        "print(y_train.shape, y_test.shape)\n",
        "\n",
        "x_train = x_train.astype(np.float32) / 255.0\n",
        "x_test = x_test.astype(np.float32) / 255.0"
      ],
      "metadata": {
        "colab": {
          "base_uri": "https://localhost:8080/"
        },
        "id": "3ddNoM-hblpS",
        "outputId": "53045d6a-0805-4b51-f5f3-6cab87416999"
      },
      "execution_count": null,
      "outputs": [
        {
          "output_type": "stream",
          "name": "stdout",
          "text": [
            "(60000, 28, 28, 1) (10000, 28, 28, 1)\n",
            "(60000,) (10000,)\n"
          ]
        }
      ]
    },
    {
      "cell_type": "code",
      "source": [
        "cnn = Sequential()\n",
        "\n",
        "cnn.add(Conv2D(input_shape = (28, 28, 1), kernel_size = (3, 3), filters = 32, activation ='relu'))\n",
        "cnn.add(Conv2D(kernel_size = (3,3), filters = 64, activation = 'relu'))\n",
        "cnn.add(MaxPool2D(pool_size = (2, 2)))\n",
        "cnn.add(Dropout(0.25))\n",
        "\n",
        "cnn.add(Flatten())\n",
        "\n",
        "cnn.add(Dense(128, activation = 'relu'))\n",
        "cnn.add(Dropout(0.5))\n",
        "cnn.add(Dense(10, activation = 'softmax'))"
      ],
      "metadata": {
        "id": "D-dMt1R9cL5s"
      },
      "execution_count": null,
      "outputs": []
    },
    {
      "cell_type": "code",
      "source": [
        "cnn.compile(loss = 'sparse_categorical_crossentropy', optimizer=tf.keras.optimizers.Adam(), metrics=['accuracy'])\n",
        "hist = cnn.fit(x_train, y_train, batch_size = 128, epochs = 30, validation_data = (x_test, y_test))\n",
        "\n",
        "cnn.evaluate(x_test, y_test)"
      ],
      "metadata": {
        "colab": {
          "base_uri": "https://localhost:8080/"
        },
        "id": "xmeMcndAdrNd",
        "outputId": "b5b8c4fe-6e91-4a96-b562-c4d3e30d5726"
      },
      "execution_count": null,
      "outputs": [
        {
          "output_type": "stream",
          "name": "stdout",
          "text": [
            "Epoch 1/30\n",
            "469/469 [==============================] - 135s 286ms/step - loss: 0.5290 - accuracy: 0.8095 - val_loss: 0.3509 - val_accuracy: 0.8751\n",
            "Epoch 2/30\n",
            "469/469 [==============================] - 132s 281ms/step - loss: 0.3480 - accuracy: 0.8756 - val_loss: 0.2915 - val_accuracy: 0.8957\n",
            "Epoch 3/30\n",
            "469/469 [==============================] - 131s 279ms/step - loss: 0.2995 - accuracy: 0.8932 - val_loss: 0.2675 - val_accuracy: 0.9010\n",
            "Epoch 4/30\n",
            "469/469 [==============================] - 130s 278ms/step - loss: 0.2652 - accuracy: 0.9044 - val_loss: 0.2501 - val_accuracy: 0.9070\n",
            "Epoch 5/30\n",
            "469/469 [==============================] - 131s 279ms/step - loss: 0.2444 - accuracy: 0.9115 - val_loss: 0.2286 - val_accuracy: 0.9152\n",
            "Epoch 6/30\n",
            "469/469 [==============================] - 130s 278ms/step - loss: 0.2232 - accuracy: 0.9181 - val_loss: 0.2314 - val_accuracy: 0.9137\n",
            "Epoch 7/30\n",
            "469/469 [==============================] - 130s 278ms/step - loss: 0.2028 - accuracy: 0.9240 - val_loss: 0.2302 - val_accuracy: 0.9189\n",
            "Epoch 8/30\n",
            "469/469 [==============================] - 130s 277ms/step - loss: 0.1952 - accuracy: 0.9274 - val_loss: 0.2193 - val_accuracy: 0.9239\n",
            "Epoch 9/30\n",
            "469/469 [==============================] - 130s 278ms/step - loss: 0.1786 - accuracy: 0.9329 - val_loss: 0.2233 - val_accuracy: 0.9202\n",
            "Epoch 10/30\n",
            "469/469 [==============================] - 130s 277ms/step - loss: 0.1693 - accuracy: 0.9369 - val_loss: 0.2063 - val_accuracy: 0.9285\n",
            "Epoch 11/30\n",
            "469/469 [==============================] - 130s 277ms/step - loss: 0.1544 - accuracy: 0.9414 - val_loss: 0.2206 - val_accuracy: 0.9235\n",
            "Epoch 12/30\n",
            "469/469 [==============================] - 130s 277ms/step - loss: 0.1492 - accuracy: 0.9429 - val_loss: 0.2239 - val_accuracy: 0.9248\n",
            "Epoch 13/30\n",
            "469/469 [==============================] - 130s 278ms/step - loss: 0.1398 - accuracy: 0.9479 - val_loss: 0.2161 - val_accuracy: 0.9289\n",
            "Epoch 14/30\n",
            "469/469 [==============================] - 130s 277ms/step - loss: 0.1314 - accuracy: 0.9508 - val_loss: 0.2211 - val_accuracy: 0.9260\n",
            "Epoch 15/30\n",
            "469/469 [==============================] - 130s 277ms/step - loss: 0.1263 - accuracy: 0.9524 - val_loss: 0.2199 - val_accuracy: 0.9261\n",
            "Epoch 16/30\n",
            "469/469 [==============================] - 130s 277ms/step - loss: 0.1173 - accuracy: 0.9557 - val_loss: 0.2208 - val_accuracy: 0.9311\n",
            "Epoch 17/30\n",
            "469/469 [==============================] - 130s 277ms/step - loss: 0.1113 - accuracy: 0.9569 - val_loss: 0.2319 - val_accuracy: 0.9295\n",
            "Epoch 18/30\n",
            "469/469 [==============================] - 129s 276ms/step - loss: 0.1050 - accuracy: 0.9599 - val_loss: 0.2364 - val_accuracy: 0.9303\n",
            "Epoch 19/30\n",
            "469/469 [==============================] - 130s 277ms/step - loss: 0.1037 - accuracy: 0.9610 - val_loss: 0.2413 - val_accuracy: 0.9303\n",
            "Epoch 20/30\n",
            "469/469 [==============================] - 130s 277ms/step - loss: 0.0995 - accuracy: 0.9616 - val_loss: 0.2427 - val_accuracy: 0.9312\n",
            "Epoch 21/30\n",
            "469/469 [==============================] - 130s 277ms/step - loss: 0.0955 - accuracy: 0.9632 - val_loss: 0.2404 - val_accuracy: 0.9325\n",
            "Epoch 22/30\n",
            "469/469 [==============================] - 130s 277ms/step - loss: 0.0906 - accuracy: 0.9658 - val_loss: 0.2291 - val_accuracy: 0.9352\n",
            "Epoch 23/30\n",
            "469/469 [==============================] - 130s 278ms/step - loss: 0.0865 - accuracy: 0.9667 - val_loss: 0.2487 - val_accuracy: 0.9339\n",
            "Epoch 24/30\n",
            "469/469 [==============================] - 131s 278ms/step - loss: 0.0871 - accuracy: 0.9664 - val_loss: 0.2478 - val_accuracy: 0.9328\n",
            "Epoch 25/30\n",
            "469/469 [==============================] - 130s 278ms/step - loss: 0.0824 - accuracy: 0.9687 - val_loss: 0.2598 - val_accuracy: 0.9323\n",
            "Epoch 26/30\n",
            "469/469 [==============================] - 130s 277ms/step - loss: 0.0780 - accuracy: 0.9693 - val_loss: 0.2566 - val_accuracy: 0.9326\n",
            "Epoch 27/30\n",
            "469/469 [==============================] - 130s 277ms/step - loss: 0.0788 - accuracy: 0.9701 - val_loss: 0.2668 - val_accuracy: 0.9301\n",
            "Epoch 28/30\n",
            "469/469 [==============================] - 130s 277ms/step - loss: 0.0761 - accuracy: 0.9704 - val_loss: 0.2625 - val_accuracy: 0.9324\n",
            "Epoch 29/30\n",
            "469/469 [==============================] - 130s 277ms/step - loss: 0.0763 - accuracy: 0.9714 - val_loss: 0.2662 - val_accuracy: 0.9322\n",
            "Epoch 30/30\n",
            "469/469 [==============================] - 130s 277ms/step - loss: 0.0710 - accuracy: 0.9726 - val_loss: 0.2797 - val_accuracy: 0.9317\n",
            "313/313 [==============================] - 6s 18ms/step - loss: 0.2797 - accuracy: 0.9317\n"
          ]
        },
        {
          "output_type": "execute_result",
          "data": {
            "text/plain": [
              "[0.2796723544597626, 0.9316999912261963]"
            ]
          },
          "metadata": {},
          "execution_count": 7
        }
      ]
    },
    {
      "cell_type": "code",
      "source": [
        "import matplotlib.pyplot as plt\n",
        "\n",
        "plt.plot(hist.history['accuracy'])\n",
        "plt.plot(hist.history['val_accuracy'])\n",
        "plt.title('Accuracy Trend')\n",
        "plt.ylabel('accuracy')\n",
        "plt.xlabel('epoch')\n",
        "plt.legend(['train', 'validation'], loc='best')\n",
        "plt.grid()\n",
        "plt. show()\n",
        "\n",
        "plt.plot(hist.history['loss'])\n",
        "plt.plot(hist.history['val_loss'])\n",
        "plt.title('Loss Trend')\n",
        "plt.ylabel('loss')\n",
        "plt.xlabel('epoch')\n",
        "plt.legend(['train', 'validation'], loc='best')\n",
        "plt.grid()\n",
        "plt. show()"
      ],
      "metadata": {
        "id": "vmnxBYDDfweN",
        "colab": {
          "base_uri": "https://localhost:8080/",
          "height": 573
        },
        "outputId": "db53fe12-e0f4-4742-e5e2-acf0a0418671"
      },
      "execution_count": null,
      "outputs": [
        {
          "output_type": "display_data",
          "data": {
            "text/plain": [
              "<Figure size 432x288 with 1 Axes>"
            ],
            "image/png": "[encoded data removed]"
          },
          "metadata": {
            "needs_background": "light"
          }
        },
        {
          "output_type": "display_data",
          "data": {
            "text/plain": [
              "<Figure size 432x288 with 1 Axes>"
            ],
            "image/png": "[encoded data removed]"
          },
          "metadata": {
            "needs_background": "light"
          }
        }
      ]
    }
  ]
}