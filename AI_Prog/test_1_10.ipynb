{
 "cells": [
  {
   "cell_type": "markdown",
   "id": "cea72a40",
   "metadata": {},
   "source": [
    "데이터 [1,2,3,4,5,6,7,8]"
   ]
  },
  {
   "cell_type": "markdown",
   "id": "8b52f670",
   "metadata": {},
   "source": [
    "배열의 중간 위치의 값을 찾고자 하는 값과 비교하"
   ]
  },
  {
   "cell_type": "code",
   "execution_count": null,
   "id": "6d305fec",
   "metadata": {},
   "outputs": [],
   "source": [
    "val = 6.0\n",
    "print(val, type(val))"
   ]
  },
  {
   "cell_type": "code",
   "execution_count": null,
   "id": "e27a9467",
   "metadata": {},
   "outputs": [],
   "source": [
    "x, y = 3, 4\n",
    "print(x,y)\n",
    "z = x\n",
    "x = y\n",
    "y = z\n",
    "print(x,y)\n",
    "y, x = x, y\n",
    "print(x,y)"
   ]
  },
  {
   "cell_type": "code",
   "execution_count": null,
   "id": "ae4f56e1",
   "metadata": {},
   "outputs": [],
   "source": [
    "import keyword\n",
    "print(keyword.kwlist)"
   ]
  },
  {
   "cell_type": "code",
   "execution_count": null,
   "id": "62f8cf52",
   "metadata": {},
   "outputs": [],
   "source": [
    "x= input()\n",
    "print(type(x))\n",
    "print(type(input()))"
   ]
  },
  {
   "cell_type": "code",
   "execution_count": 30,
   "id": "b0d61936",
   "metadata": {},
   "outputs": [
    {
     "name": "stdout",
     "output_type": "stream",
     "text": [
      "첫번째 숫자를 입력하시오  12\n",
      "두번째 숫자를 입력하시오  23\n",
      "35\n"
     ]
    }
   ],
   "source": [
    "x = input('첫번째 숫자를 입력하시오  ')\n",
    "y = input('두번째 숫자를 입력하시오  ')\n",
    "print(int(x)+int(y))"
   ]
  },
  {
   "cell_type": "code",
   "execution_count": 35,
   "id": "fac60ae1",
   "metadata": {},
   "outputs": [
    {
     "name": "stdout",
     "output_type": "stream",
     "text": [
      "숫자를 입력하시오 : 123 234\n",
      "357\n"
     ]
    }
   ],
   "source": [
    "x, y =input(\"숫자를 입력하시오 : \").split()\n",
    "print(int(x)+int(y))"
   ]
  },
  {
   "cell_type": "code",
   "execution_count": 41,
   "id": "075d00de",
   "metadata": {},
   "outputs": [
    {
     "name": "stdout",
     "output_type": "stream",
     "text": [
      "숫자를 입력하시오 : 1 2 3,234, 345\n"
     ]
    },
    {
     "ename": "ValueError",
     "evalue": "invalid literal for int() with base 10: '1 2 3'",
     "output_type": "error",
     "traceback": [
      "\u001b[1;31m---------------------------------------------------------------------------\u001b[0m",
      "\u001b[1;31mValueError\u001b[0m                                Traceback (most recent call last)",
      "Cell \u001b[1;32mIn[41], line 1\u001b[0m\n\u001b[1;32m----> 1\u001b[0m x, y, z \u001b[38;5;241m=\u001b[39m \u001b[38;5;28mmap\u001b[39m(\u001b[38;5;28mint\u001b[39m, \u001b[38;5;28minput\u001b[39m(\u001b[38;5;124m\"\u001b[39m\u001b[38;5;124m숫자를 입력하시오 : \u001b[39m\u001b[38;5;124m\"\u001b[39m)\u001b[38;5;241m.\u001b[39msplit(\u001b[38;5;124m\"\u001b[39m\u001b[38;5;124m,\u001b[39m\u001b[38;5;124m\"\u001b[39m))\n\u001b[0;32m      2\u001b[0m \u001b[38;5;28mprint\u001b[39m(x\u001b[38;5;241m+\u001b[39my\u001b[38;5;241m+\u001b[39mz)\n",
      "\u001b[1;31mValueError\u001b[0m: invalid literal for int() with base 10: '1 2 3'"
     ]
    }
   ],
   "source": [
    "x, y, z = map(int, input(\"숫자를 입력하시오 : \").split(\",\"))\n",
    "print(x+y+z)"
   ]
  },
  {
   "cell_type": "code",
   "execution_count": 50,
   "id": "28797b33",
   "metadata": {},
   "outputs": [
    {
     "name": "stdout",
     "output_type": "stream",
     "text": [
      "100 * 00200 =      300.0\n"
     ]
    }
   ],
   "source": [
    "print (\"%d * %05d = %10.1f\" % (100, 200, 300.0))"
   ]
  },
  {
   "cell_type": "code",
   "execution_count": 14,
   "id": "d4bdb862",
   "metadata": {},
   "outputs": [
    {
     "name": "stdout",
     "output_type": "stream",
     "text": [
      "100에다 200을 더하면  00300\n"
     ]
    }
   ],
   "source": [
    "print(\"{0:d}에다 {1:d}을 더하면  {2:05d}\".format(100, 200, 300))"
   ]
  },
  {
   "cell_type": "code",
   "execution_count": 10,
   "id": "1d556ddc",
   "metadata": {},
   "outputs": [
    {
     "name": "stdout",
     "output_type": "stream",
     "text": [
      "300 100 200\n"
     ]
    }
   ],
   "source": [
    "print(\"{2:0d} {0:d} {1:d}\".format(100, 200, 300))"
   ]
  },
  {
   "cell_type": "code",
   "execution_count": 12,
   "id": "b61724b1",
   "metadata": {},
   "outputs": [
    {
     "name": "stdout",
     "output_type": "stream",
     "text": [
      "45\n"
     ]
    }
   ],
   "source": [
    "total = 0\n",
    "for c in \"123456789\":\n",
    "    total = total + int(c)\n",
    "print(total)"
   ]
  }
 ],
 "metadata": {
  "kernelspec": {
   "display_name": "Python 3 (ipykernel)",
   "language": "python",
   "name": "python3"
  },
  "language_info": {
   "codemirror_mode": {
    "name": "ipython",
    "version": 3
   },
   "file_extension": ".py",
   "mimetype": "text/x-python",
   "name": "python",
   "nbconvert_exporter": "python",
   "pygments_lexer": "ipython3",
   "version": "3.10.6"
  }
 },
 "nbformat": 4,
 "nbformat_minor": 5
}
