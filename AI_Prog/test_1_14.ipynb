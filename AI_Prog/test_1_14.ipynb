{
 "cells": [
  {
   "cell_type": "code",
   "execution_count": 2,
   "id": "a31bf0a8",
   "metadata": {},
   "outputs": [
    {
     "name": "stdout",
     "output_type": "stream",
     "text": [
      "4\n"
     ]
    }
   ],
   "source": [
    "def max(x, y):\n",
    "    if x>y:\n",
    "        return x\n",
    "    else :\n",
    "        return y\n",
    "    \n",
    "z = max(3,4)\n",
    "print(z)"
   ]
  },
  {
   "cell_type": "code",
   "execution_count": 7,
   "id": "446c5797",
   "metadata": {},
   "outputs": [
    {
     "name": "stdout",
     "output_type": "stream",
     "text": [
      "123123\n"
     ]
    }
   ],
   "source": [
    "def add(x, y):\n",
    "    return x+y\n",
    "\n",
    "print(add(\"123\",\"123\"))"
   ]
  },
  {
   "cell_type": "code",
   "execution_count": 23,
   "id": "e259211c",
   "metadata": {},
   "outputs": [
    {
     "name": "stdout",
     "output_type": "stream",
     "text": [
      "숫자를 입력하시오 : 10\n",
      "1 번째에 있습니다.\n"
     ]
    }
   ],
   "source": [
    "def bi_search(dat, key):\n",
    "    end = len(dat) \n",
    "    start = 0\n",
    "    find = 0\n",
    "    mid = 0\n",
    "    while start < end :\n",
    "        mid =  int((start + end) / 2)\n",
    "        if dat[mid] == key:\n",
    "            return(mid+1)\n",
    "            find  = 1\n",
    "            break\n",
    "        elif dat[mid] < key :\n",
    "            start = mid +1\n",
    "        else:\n",
    "            end = mid \n",
    "    if find == 0:\n",
    "        return -1\n",
    " \n",
    "dat = [10, 20, 30, 40, 50, 60 ,70, 80, 90]     \n",
    "key = int(input(\"숫자를 입력하시오 : \"))\n",
    "\n",
    "idx =  bi_search(dat, key)\n",
    "if idx > 0:\n",
    "    print(\"%d 번째에 있습니다.\" % idx)\n",
    "else:\n",
    "    print(\"찾고자하는 값이 없습니다.\")"
   ]
  },
  {
   "cell_type": "code",
   "execution_count": 37,
   "id": "27a717d8",
   "metadata": {},
   "outputs": [
    {
     "name": "stdout",
     "output_type": "stream",
     "text": [
      "한 변의 길이가 얼마 이하인 직각삼각형을 찾으시나요 : 30\n",
      "[(3, 4, 5), (5, 12, 13), (6, 8, 10), (7, 24, 25), (8, 15, 17), (9, 12, 15), (10, 24, 26), (12, 16, 20), (15, 20, 25), (18, 24, 30), (20, 21, 29)]\n"
     ]
    }
   ],
   "source": [
    "\n",
    "def find_recTri(bound):\n",
    "    rec_tri = []\n",
    "    \n",
    "    for x in range(1, bound + 1):\n",
    "        for y in range(x, bound + 1):\n",
    "            for z in range(y, bound + 1):\n",
    "                if z**2 == (x**2 + y**2 ) :\n",
    "                    tem = (x,y,z)\n",
    "                    rec_tri.append(tem)\n",
    "    return rec_tri\n",
    "                \n",
    "bnd = int(input(\"한 변의 길이가 얼마 이하인 직각삼각형을 찾으시나요 : \"))\n",
    "recTri = find_recTri(bnd)\n",
    "\n",
    "print(recTri)\n",
    "\n",
    "\n",
    "                "
   ]
  },
  {
   "cell_type": "code",
   "execution_count": 45,
   "id": "fe00f626",
   "metadata": {},
   "outputs": [
    {
     "name": "stdout",
     "output_type": "stream",
     "text": [
      "Leibniz 수열을 이용한 파이 값 구하기\n",
      "3.1415916535897743\n"
     ]
    }
   ],
   "source": [
    "print(\"Leibniz 수열을 이용한 파이 값 구하기\")\n",
    "Max =1000000\n",
    "pi = 4.0\n",
    "cnt = 1\n",
    "while cnt < Max:\n",
    "    pi = pi + 4.0 * ((-1)**cnt) / (2*cnt + 1) \n",
    "    cnt = cnt +1\n",
    "    \n",
    "print(pi)"
   ]
  },
  {
   "cell_type": "code",
   "execution_count": 61,
   "id": "fc8f3ab2",
   "metadata": {},
   "outputs": [
    {
     "name": "stdout",
     "output_type": "stream",
     "text": [
      "동전을 몇 번 던질까요 : 10000\n",
      "동전을 10000번 던졌을 때의 평균은 : 5004.000000 \n"
     ]
    }
   ],
   "source": [
    "import random\n",
    "\n",
    "def coin():\n",
    "    if random.random() < 0.5:\n",
    "        return 1\n",
    "    return 0\n",
    "\n",
    "cnt = int(input(\"동전을 몇 번 던질까요 : \"))\n",
    "\n",
    "sum = 0\n",
    "i = 1\n",
    "\n",
    "while i <= cnt:\n",
    "    sum = sum + coin()\n",
    "    i = i+ 1\n",
    "    \n",
    "   \n",
    "print(\"동전을 %d번 던졌을 때의 평균은 : %f \" % (cnt, cnt * sum/cnt))\n"
   ]
  },
  {
   "cell_type": "code",
   "execution_count": 53,
   "id": "81d2df8e",
   "metadata": {},
   "outputs": [
    {
     "data": {
      "text/plain": [
       "float"
      ]
     },
     "execution_count": 53,
     "metadata": {},
     "output_type": "execute_result"
    }
   ],
   "source": [
    "type(0.1)"
   ]
  },
  {
   "cell_type": "code",
   "execution_count": 4,
   "id": "dc06efef",
   "metadata": {},
   "outputs": [
    {
     "name": "stdout",
     "output_type": "stream",
     "text": [
      "x =  4\n",
      "z =  4\n",
      "x =  abc\n",
      "x =  4\n",
      "x =  3\n",
      "z =  <function f.<locals>.g at 0x000001FBED7155A0>\n",
      "x =  abc\n"
     ]
    }
   ],
   "source": [
    "def f(x):\n",
    "    def g():\n",
    "        x =\"abc\"\n",
    "        print (\"x = \", x)\n",
    "    def h():\n",
    "        z = x\n",
    "        print (\"z = \", z)\n",
    "    x = x + 1\n",
    "    print (\"x = \", x)\n",
    "    h()\n",
    "    g()\n",
    "    print (\"x = \", x)\n",
    "    return g\n",
    "\n",
    "x = 3\n",
    "z = f(x)\n",
    "print (\"x = \", x)\n",
    "print (\"z = \", z)\n",
    "z()"
   ]
  },
  {
   "cell_type": "code",
   "execution_count": 18,
   "id": "f838368f",
   "metadata": {},
   "outputs": [
    {
     "ename": "SyntaxError",
     "evalue": "invalid syntax (3770074121.py, line 8)",
     "output_type": "error",
     "traceback": [
      "\u001b[1;36m  Cell \u001b[1;32mIn[18], line 8\u001b[1;36m\u001b[0m\n\u001b[1;33m    execept KeyError:\u001b[0m\n\u001b[1;37m            ^\u001b[0m\n\u001b[1;31mSyntaxError\u001b[0m\u001b[1;31m:\u001b[0m invalid syntax\n"
     ]
    }
   ],
   "source": [
    "while True:\n",
    "    val = input(\"enter as integer : \")\n",
    "    try :\n",
    "        val = int(val)\n",
    "        print(\"the square \", val**2)\n",
    "    except ValueError:\n",
    "        print(val, \"is not an integer\")\n",
    "    execept KeyError:\n",
    "        break\n",
    "        "
   ]
  },
  {
   "cell_type": "code",
   "execution_count": 15,
   "id": "6766c080",
   "metadata": {},
   "outputs": [
    {
     "name": "stdout",
     "output_type": "stream",
     "text": [
      "enter as integer : 3.3\n"
     ]
    },
    {
     "ename": "ValueError",
     "evalue": "invalid literal for int() with base 10: '3.3'",
     "output_type": "error",
     "traceback": [
      "\u001b[1;31m---------------------------------------------------------------------------\u001b[0m",
      "\u001b[1;31mValueError\u001b[0m                                Traceback (most recent call last)",
      "Cell \u001b[1;32mIn[15], line 3\u001b[0m\n\u001b[0;32m      1\u001b[0m val \u001b[38;5;241m=\u001b[39m \u001b[38;5;28minput\u001b[39m(\u001b[38;5;124m\"\u001b[39m\u001b[38;5;124menter as integer : \u001b[39m\u001b[38;5;124m\"\u001b[39m)\n\u001b[1;32m----> 3\u001b[0m val \u001b[38;5;241m=\u001b[39m \u001b[38;5;28;43mint\u001b[39;49m\u001b[43m(\u001b[49m\u001b[43mval\u001b[49m\u001b[43m)\u001b[49m\n\u001b[0;32m      4\u001b[0m \u001b[38;5;28mprint\u001b[39m(\u001b[38;5;124m\"\u001b[39m\u001b[38;5;124mthe square \u001b[39m\u001b[38;5;124m\"\u001b[39m, val)\n",
      "\u001b[1;31mValueError\u001b[0m: invalid literal for int() with base 10: '3.3'"
     ]
    }
   ],
   "source": [
    "val = input(\"enter as integer : \")\n",
    "  \n",
    "val = int(val)\n",
    "print(\"the square \", val)"
   ]
  },
  {
   "cell_type": "code",
   "execution_count": 20,
   "id": "8446ec3d",
   "metadata": {},
   "outputs": [
    {
     "name": "stdout",
     "output_type": "stream",
     "text": [
      "zerodivision error\n"
     ]
    }
   ],
   "source": [
    "nss = 10; nfs=0\n",
    "try:\n",
    "    sfr = nss / float(nfs)\n",
    "    \n",
    "\n",
    "except ZeroDivisionError:\n",
    "    print(\"zerodivision error\")\n",
    "\n",
    "except:\n",
    "    print(\"Error occured\")\n"
   ]
  },
  {
   "cell_type": "code",
   "execution_count": 27,
   "id": "64f9e611",
   "metadata": {},
   "outputs": [
    {
     "name": "stdout",
     "output_type": "stream",
     "text": [
      "나이를 입력하세요 : 2.1\n",
      "입력이 잘못되었습니다. 다시 입력하세요\n",
      "입력이 잘못되었습니다. 다시 입력하세요\n",
      "나이를 입력하세요 : 2\n",
      "입력하신 나이는 다음과 같습니다 :  2\n"
     ]
    }
   ],
   "source": [
    "while True:\n",
    "    try:\n",
    "        age = int(input(\"나이를 입력하세요 : \"))\n",
    "        print(\"입력하신 나이는 다음과 같습니다 : \", age)\n",
    "        break\n",
    "        \n",
    "    except ValueError:\n",
    "        print(\"입력이 잘못되었습니다. 다시 입력하세요\")\n"
   ]
  },
  {
   "cell_type": "code",
   "execution_count": 32,
   "id": "e4d23398",
   "metadata": {},
   "outputs": [
    {
     "name": "stdout",
     "output_type": "stream",
     "text": [
      "[1.0, 1.0, nan, 2.0]\n",
      "[]\n",
      "getRatios called with bad argument\n"
     ]
    }
   ],
   "source": [
    "def getRatios(vect1, vect2):\n",
    "    ratios = []\n",
    "    for index in range(len(vect1)):\n",
    "        try :\n",
    "            ratios.append(vect1[index] / float(vect2[index]))\n",
    "        except ZeroDivisionError:\n",
    "            ratios.append(float(\"nan\"))\n",
    "        except :\n",
    "            raise ValueError(\"getRatios called with bad argument\")\n",
    "            \n",
    "    return ratios\n",
    "\n",
    "try:\n",
    "    print(getRatios([1.0, 2.0, 7.0, 6.0], [1.0, 2.0, 0.0, 3.0]))\n",
    "    print(getRatios([],[]))\n",
    "    print(getRatios([1.9, 2.0], [3.0]))\n",
    "except ValueError as ve:\n",
    "    print(ve)"
   ]
  },
  {
   "cell_type": "code",
   "execution_count": 51,
   "id": "6ca95d6c",
   "metadata": {},
   "outputs": [
    {
     "name": "stdout",
     "output_type": "stream",
     "text": [
      "1 ['2', '3', '4', '5']\n"
     ]
    },
    {
     "data": {
      "text/plain": [
       "'12'"
      ]
     },
     "execution_count": 51,
     "metadata": {},
     "output_type": "execute_result"
    }
   ],
   "source": [
    "a, *b=\"12345\"\n",
    "print(a,b)\n",
    "round(15.567,-1)\n",
    "repr(12)"
   ]
  },
  {
   "cell_type": "code",
   "execution_count": 63,
   "id": "43fa27e1",
   "metadata": {},
   "outputs": [
    {
     "name": "stdout",
     "output_type": "stream",
     "text": [
      "1 부터 100 사이의 숫자 맞추기 게임~~~\n",
      "1 부터 100사이의 숫자를 입력하세요 : 50\n",
      "입력하신 값보다 큽니다.\n",
      "1 부터 100사이의 숫자를 입력하세요 : 75\n",
      "입력하신 값보다 큽니다.\n",
      "1 부터 100사이의 숫자를 입력하세요 : 87\n",
      "입력하신 값보다 작습니다.\n",
      "1 부터 100사이의 숫자를 입력하세요 : 80\n",
      "입력하신 값보다 큽니다.\n",
      "1 부터 100사이의 숫자를 입력하세요 : 84\n",
      "입력하신 값보다 큽니다.\n",
      "1 부터 100사이의 숫자를 입력하세요 : 86\n",
      "6 번 만에 맞췄어요 \n"
     ]
    }
   ],
   "source": [
    "print(\"1 부터 100 사이의 숫자 맞추기 게임~~~\")\n",
    "\n",
    "import random\n",
    "val = int(random.randint(1,101))\n",
    "count = 1\n",
    "while True :\n",
    "    key = int(input(\"1 부터 100사이의 숫자를 입력하세요 : \"))\n",
    "  \n",
    "    if val == key :\n",
    "        print(\"%d 번 만에 맞췄어요 \" % count)\n",
    "        break\n",
    "    elif val < key :\n",
    "        print(\"입력하신 값보다 작습니다.\")\n",
    "    else :\n",
    "        print(\"입력하신 값보다 큽니다.\")\n",
    "        \n",
    "    count = count + 1"
   ]
  },
  {
   "cell_type": "code",
   "execution_count": 13,
   "id": "68ef61fa",
   "metadata": {
    "scrolled": true
   },
   "outputs": [
    {
     "name": "stdout",
     "output_type": "stream",
     "text": [
      "mon 1\n",
      "tue 2\n",
      "wed 3\n",
      "1\n",
      "{'tue': 2, 'wed': 3}\n"
     ]
    }
   ],
   "source": [
    "a ={\"mon\":1, \"tue\" :2 ,\"wed\":3}\n",
    "for k,v in a.items():\n",
    "    print(k,v)\n",
    "print(a.pop(\"mon\"))\n",
    "print(a)"
   ]
  },
  {
   "cell_type": "code",
   "execution_count": 19,
   "id": "5c6a300e",
   "metadata": {},
   "outputs": [
    {
     "name": "stdout",
     "output_type": "stream",
     "text": [
      "[1, 2, 3, 4, 5, 1, 2, 3, 4, 5, 6]\n",
      "[1, 2, 3, 4, 5, 6]\n",
      "0 1\n",
      "1 2\n",
      "2 3\n",
      "3 4\n",
      "4 5\n",
      "5 6\n"
     ]
    }
   ],
   "source": [
    "astr=\"abCAcacadefg\"\n",
    "l1=[1,2,3,4,5]\n",
    "l2=list(l1)\n",
    "l2.append(6)\n",
    "l1.extend(l2)\n",
    "print(l1)\n",
    "print(l2)\n",
    "for i,j in enumerate(l2):\n",
    "    print(i, j)"
   ]
  },
  {
   "cell_type": "code",
   "execution_count": 12,
   "id": "b73427cb",
   "metadata": {},
   "outputs": [
    {
     "name": "stdout",
     "output_type": "stream",
     "text": [
      "<_io.TextIOWrapper name='temp.txt' mode='r' encoding='cp949'>\n",
      "이병철\n",
      "우헤헿\n"
     ]
    }
   ],
   "source": [
    "fp = open(\"temp.txt\",\"w\")\n",
    "fp.write(\"이병철\\n\")\n",
    "fp.write(\"우헤헿\\n\")\n",
    "fp.close()\n",
    "fp = open(\"temp.txt\",\"r\")\n",
    "print(fp)\n",
    "for line in fp:\n",
    "    print(line[:-1])\n",
    "    \n",
    "fp.close()"
   ]
  },
  {
   "cell_type": "code",
   "execution_count": 88,
   "id": "c8627139",
   "metadata": {},
   "outputs": [
    {
     "name": "stdout",
     "output_type": "stream",
     "text": [
      "이병철\n",
      "우헤헿\n",
      "이병철\n",
      "우헤헿\n",
      "이병철\n",
      "우헤헿\n",
      "이병철\n",
      "우헤헿\n",
      "이병철\n",
      "우헤헿\n",
      "이병철\n",
      "우헤헿\n",
      "이병철\n",
      "우헤헿\n",
      "이병철\n",
      "우헤헿\n",
      "이병철\n",
      "우헤헿\n",
      "이병철\n",
      "우헤헿\n",
      "이병철\n",
      "우헤헿\n",
      "이병철\n",
      "우헤헿\n",
      "이병철\n",
      "우헤헿\n",
      "이병철\n",
      "우헤헿\n",
      "이병철\n",
      "우헤헿\n",
      "이병철\n",
      "우헤헿\n"
     ]
    }
   ],
   "source": [
    "fp = open(\"temp.txt\",\"a\")\n",
    "fp.write(\"이병철\\n\")\n",
    "fp.write(\"우헤헿\\n\")\n",
    "fp.close()\n",
    "fp = open(\"temp.txt\",\"r\")\n",
    "\n",
    "for line in fp:\n",
    "    print(line[:-1])\n",
    "    \n",
    "fp.close()"
   ]
  },
  {
   "cell_type": "code",
   "execution_count": 96,
   "id": "0a41a826",
   "metadata": {},
   "outputs": [
    {
     "name": "stdout",
     "output_type": "stream",
     "text": [
      "3.141592123\n",
      "28.274329107\n",
      "18.849552738\n",
      "113.097316428\n"
     ]
    }
   ],
   "source": [
    "import circle2\n",
    "print(circle2.pi)\n",
    "print(circle2.area(3))\n",
    "print(circle2.circumference(3))\n",
    "print(circle2.sphereSurface(3))"
   ]
  },
  {
   "cell_type": "code",
   "execution_count": 97,
   "id": "c3e3eb90",
   "metadata": {},
   "outputs": [
    {
     "name": "stdout",
     "output_type": "stream",
     "text": [
      "3.141592123\n",
      "3.141592123\n"
     ]
    }
   ],
   "source": [
    "from circle2 import *\n",
    "print(pi)\n",
    "print(circle2.pi)"
   ]
  },
  {
   "cell_type": "code",
   "execution_count": 107,
   "id": "290cf097",
   "metadata": {},
   "outputs": [
    {
     "name": "stdout",
     "output_type": "stream",
     "text": [
      "{'mon': 1, 'tue': 2}\n",
      "('wed', 3)\n"
     ]
    }
   ],
   "source": [
    "a={\"mon\":1,\"tue\":2,\"wed\":3}\n",
    "b=a.popitem()\n",
    "print(a)\n",
    "print(b)"
   ]
  }
 ],
 "metadata": {
  "kernelspec": {
   "display_name": "Python 3 (ipykernel)",
   "language": "python",
   "name": "python3"
  },
  "language_info": {
   "codemirror_mode": {
    "name": "ipython",
    "version": 3
   },
   "file_extension": ".py",
   "mimetype": "text/x-python",
   "name": "python",
   "nbconvert_exporter": "python",
   "pygments_lexer": "ipython3",
   "version": "3.10.6"
  }
 },
 "nbformat": 4,
 "nbformat_minor": 5
}
