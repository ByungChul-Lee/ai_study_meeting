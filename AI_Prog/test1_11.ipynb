{
 "cells": [
  {
   "cell_type": "code",
   "execution_count": 12,
   "id": "a007082a",
   "metadata": {},
   "outputs": [
    {
     "name": "stdout",
     "output_type": "stream",
     "text": [
      "숫자를 입력하시오 : 70\n",
      "C\n"
     ]
    }
   ],
   "source": [
    "val = int(input(\"숫자를 입력하시오 : \"))\n",
    "if val >= 90:\n",
    "    print(\"A\")\n",
    "elif val >=80  :\n",
    "    print(\"B\")\n",
    "elif val >=70  :\n",
    "    print(\"C\")\n",
    "elif val >=60  :\n",
    "    print(\"D\")\n",
    "else  :\n",
    "    print(\"F\")\n"
   ]
  },
  {
   "cell_type": "code",
   "execution_count": 36,
   "id": "c337da4d",
   "metadata": {},
   "outputs": [
    {
     "name": "stdout",
     "output_type": "stream",
     "text": [
      "첫 번째 과목 점수를 입력하시오 : 50\n",
      "두 번째 과목 점수를 입력하시오 : 90\n",
      "첫 번째 과목이 과락입니다.\n"
     ]
    }
   ],
   "source": [
    "# 두 과목의 점수를 입력받아 평균을 구하고 한과목이라도 과락이 생기면 아웃\n",
    "# 과락된 과목명도 출력하세요\n",
    "\n",
    "val1 = int(input(\"첫 번째 과목 점수를 입력하시오 : \"))\n",
    "val2 = int(input(\"두 번째 과목 점수를 입력하시오 : \"))\n",
    "\n",
    "mean = (val1 + val2) /2\n",
    "\n",
    "if val1 < 60 or val2 < 60:\n",
    "    if val1 < 60:\n",
    "        print(\"첫 번째 과목이 과락입니다.\")\n",
    "    else :\n",
    "        print(\"두 번째 과목이 과락입니다.\")\n",
    "    \n",
    "else :\n",
    "    if mean >= 90:\n",
    "        print(\"A\")\n",
    "    elif mean >=80  :\n",
    "        print(\"B\")\n",
    "    elif mean >=70  :\n",
    "        print(\"C\")\n",
    "    elif mean >=60  :\n",
    "        print(\"D\")\n",
    "    else  :\n",
    "        print(\"F\")\n"
   ]
  },
  {
   "cell_type": "code",
   "execution_count": 127,
   "id": "43844578",
   "metadata": {},
   "outputs": [
    {
     "name": "stdout",
     "output_type": "stream",
     "text": [
      "찾고자하는 숫자를 입력하시오  5\n",
      "왼쪽 검색\n",
      "왼쪽 검색\n",
      "왼쪽 검색\n",
      "왼쪽 검색\n",
      "입력하신 값이 존재하지 않습니다\n"
     ]
    }
   ],
   "source": [
    "dat=[10,20,30,40,50,60,70,80,90]\n",
    "key = int(input(\"찾고자하는 숫자를 입력하시오  \"))\n",
    "start = 0\n",
    "end_s = len(dat) \n",
    "end = end_s\n",
    "find = 0\n",
    "mid = 0\n",
    "# while start < end and mid != end_s - 1:\n",
    "while start < end :\n",
    "    mid =  int((start + end) / 2)\n",
    "    if dat[mid] == key:\n",
    "        print(\"%d 번째에 값이 있네요\" % (mid + 1))\n",
    "        find  = 1\n",
    "        break\n",
    "    elif dat[mid] < key :\n",
    "        start = mid +1\n",
    "        print(\"오른쪽 검색\")\n",
    "    else:\n",
    "        end = mid \n",
    "        print(\"왼쪽 검색\")\n",
    "        \n",
    "if find == 0:\n",
    "    print(\"입력하신 값이 존재하지 않습니다\")"
   ]
  },
  {
   "cell_type": "code",
   "execution_count": 135,
   "id": "c511019c",
   "metadata": {},
   "outputs": [
    {
     "name": "stdout",
     "output_type": "stream",
     "text": [
      "찾고자하는 숫자를 입력하시오  44\n",
      "왼쪽 검색\n",
      "오른쪽 검색\n",
      "오른쪽 검색\n",
      "입력하신 값이 존재하지 않습니다\n"
     ]
    }
   ],
   "source": [
    "dat=[10,20,30,40,50,60,70,80,90]\n",
    "key = int(input(\"찾고자하는 숫자를 입력하시오  \"))\n",
    "start = 0\n",
    "end = len(dat) \n",
    "find = 0\n",
    "mid = 0\n",
    "\n",
    "while start < end :\n",
    "    mid =  int((start + end) / 2)\n",
    "    if dat[mid] == key:\n",
    "        print(\"%d 번째에 값이 있네요\" % (mid + 1))\n",
    "        find  = 1\n",
    "        break\n",
    "    elif dat[mid] < key :\n",
    "        start = mid +1\n",
    "        print(\"오른쪽 검색\")\n",
    "    else:\n",
    "        end = mid \n",
    "        print(\"왼쪽 검색\")\n",
    "        \n",
    "if find == 0:\n",
    "    print(\"입력하신 값이 존재하지 않습니다\")"
   ]
  },
  {
   "cell_type": "code",
   "execution_count": 24,
   "id": "324f1abb",
   "metadata": {},
   "outputs": [
    {
     "name": "stdout",
     "output_type": "stream",
     "text": [
      "첫 번째 과목 점수를 입력하시오 : 2\n",
      "두 번째 과목 점수를 입력하시오 : 2\n",
      "첫번째 과목이 과락입니다.\n"
     ]
    }
   ],
   "source": [
    "#두 과목 점수를 입력받아 평균이 60점이상이면 각 과목이 40점 이상이면 \" 합격\"\n",
    "# 불합격이면 과락된 과목을 출력하시오\n",
    "\n",
    "val1 = int(input(\"첫 번째 과목 점수를 입력하시오 : \"))\n",
    "val2 = int(input(\"두 번째 과목 점수를 입력하시오 : \"))\n",
    "\n",
    "mean = (val1 + val2) /2\n",
    "\n",
    "if mean >= 60 and val1 >=40 and val2 >=40 :\n",
    "    print(\"합격\")\n",
    "    \n",
    "elif val1 <40 :\n",
    "    print(\"첫번째 과목이 과락입니다.\")\n",
    "elif val2 <40 :\n",
    "    print(\"두번째 과목이 과락입니다.\")"
   ]
  },
  {
   "cell_type": "code",
   "execution_count": 27,
   "id": "5eda405a",
   "metadata": {},
   "outputs": [
    {
     "name": "stdout",
     "output_type": "stream",
     "text": [
      "[1, 2, 3, 4, 5, 6, 7]\n"
     ]
    }
   ],
   "source": [
    "dat=[1,2,3,4,5,6,7,8]\n",
    "x = dat.pop()\n",
    "print(dat) "
   ]
  },
  {
   "cell_type": "code",
   "execution_count": 36,
   "id": "d5048ffe",
   "metadata": {},
   "outputs": [
    {
     "name": "stdout",
     "output_type": "stream",
     "text": [
      "'-' 없이 주민번호 13자리를 입력하시오 : 7302011448939\n",
      "남자\n"
     ]
    }
   ],
   "source": [
    "val = input(\"'-' 없이 주민번호 13자리를 입력하시오 : \")\n",
    "\n",
    "if val[6] == \"1\" or val[6] == \"3\":\n",
    "    print(\"남자\")\n",
    "else :\n",
    "    print(\"여자\")"
   ]
  },
  {
   "cell_type": "code",
   "execution_count": 45,
   "id": "5e552ec5",
   "metadata": {},
   "outputs": [
    {
     "name": "stdout",
     "output_type": "stream",
     "text": [
      "0\n",
      "2\n",
      "4\n",
      "6\n",
      "8\n",
      "10\n",
      "0부터 11까지 짝수의 합은 30 : \n"
     ]
    }
   ],
   "source": [
    "sum = 0\n",
    "s = 0\n",
    "e = 11\n",
    "for i in range(s,e,2):\n",
    "    sum = sum + i\n",
    "    print(i)\n",
    "print(\"%d부터 %d까지 짝수의 합은 %d : \" % (s,e,sum))"
   ]
  },
  {
   "cell_type": "code",
   "execution_count": 86,
   "id": "1a8d4081",
   "metadata": {},
   "outputs": [
    {
     "name": "stdout",
     "output_type": "stream",
     "text": [
      " 1 x 1 = 1   2 x 1 = 2   3 x 1 = 3   4 x 1 = 4   5 x 1 = 5   6 x 1 = 6   7 x 1 = 7   8 x 1 = 8   9 x 1 = 9  \n",
      "\n",
      " 1 x 2 = 2   2 x 2 = 4   3 x 2 = 6   4 x 2 = 8   5 x 2 =10   6 x 2 =12   7 x 2 =14   8 x 2 =16   9 x 2 =18  \n",
      "\n",
      " 1 x 3 = 3   2 x 3 = 6   3 x 3 = 9   4 x 3 =12   5 x 3 =15   6 x 3 =18   7 x 3 =21   8 x 3 =24   9 x 3 =27  \n",
      "\n",
      " 1 x 4 = 4   2 x 4 = 8   3 x 4 =12   4 x 4 =16   5 x 4 =20   6 x 4 =24   7 x 4 =28   8 x 4 =32   9 x 4 =36  \n",
      "\n",
      " 1 x 5 = 5   2 x 5 =10   3 x 5 =15   4 x 5 =20   5 x 5 =25   6 x 5 =30   7 x 5 =35   8 x 5 =40   9 x 5 =45  \n",
      "\n",
      " 1 x 6 = 6   2 x 6 =12   3 x 6 =18   4 x 6 =24   5 x 6 =30   6 x 6 =36   7 x 6 =42   8 x 6 =48   9 x 6 =54  \n",
      "\n",
      " 1 x 7 = 7   2 x 7 =14   3 x 7 =21   4 x 7 =28   5 x 7 =35   6 x 7 =42   7 x 7 =49   8 x 7 =56   9 x 7 =63  \n",
      "\n",
      " 1 x 8 = 8   2 x 8 =16   3 x 8 =24   4 x 8 =32   5 x 8 =40   6 x 8 =48   7 x 8 =56   8 x 8 =64   9 x 8 =72  \n",
      "\n",
      " 1 x 9 = 9   2 x 9 =18   3 x 9 =27   4 x 9 =36   5 x 9 =45   6 x 9 =54   7 x 9 =63   8 x 9 =72   9 x 9 =81  \n",
      "\n"
     ]
    }
   ],
   "source": [
    "for i in range(1,10):\n",
    "    for j in range(1,10):\n",
    "        print(\"%2d x%2d =%2d\" % (j,i,i*j), end = \"  \")\n",
    "        \n",
    "    print(\"\\n\")\n",
    "    "
   ]
  },
  {
   "cell_type": "code",
   "execution_count": 3,
   "id": "d4c8affa",
   "metadata": {},
   "outputs": [
    {
     "name": "stdout",
     "output_type": "stream",
     "text": [
      " 숫자를 입력하시오 :8\n",
      "                1                 \n",
      "\n",
      "              2 1 2               \n",
      "\n",
      "            3 2 1 2 3             \n",
      "\n",
      "          4 3 2 1 2 3 4           \n",
      "\n",
      "        5 4 3 2 1 2 3 4 5         \n",
      "\n",
      "      6 5 4 3 2 1 2 3 4 5 6       \n",
      "\n",
      "    7 6 5 4 3 2 1 2 3 4 5 6 7     \n",
      "\n",
      "  8 7 6 5 4 3 2 1 2 3 4 5 6 7 8   \n",
      "\n"
     ]
    }
   ],
   "source": [
    "x = int(input(\" 숫자를 입력하시오 :\"))\n",
    "x = x + 1\n",
    "sp = \" \"\n",
    "for i in range(1,x):\n",
    "    for k in range(i,x):\n",
    "        print(sp, end = \" \")\n",
    "        \n",
    "    for k in range(i, 1, -1):\n",
    "        print(k, end = \" \")\n",
    "    \n",
    "    for k in range(1,i+1):\n",
    "        print(k, end = \" \")\n",
    "    \n",
    "    for k in range(i,x):\n",
    "        print(sp, end =\" \")\n",
    "    print(\"\\n\")"
   ]
  },
  {
   "cell_type": "code",
   "execution_count": 5,
   "id": "41c86d1a",
   "metadata": {},
   "outputs": [
    {
     "name": "stdout",
     "output_type": "stream",
     "text": [
      "[100, 2, 3, 4, 5]\n",
      "[1, 2, 3, 4, 5]\n"
     ]
    }
   ],
   "source": [
    "score = [1,2,3,4,5]\n",
    "val1 = score\n",
    "val2 = list(score)\n",
    "score[0] = 100\n",
    "print(val1)\n",
    "print(val2)"
   ]
  },
  {
   "cell_type": "code",
   "execution_count": 8,
   "id": "b4640973",
   "metadata": {},
   "outputs": [
    {
     "data": {
      "text/plain": [
       "'ccc'"
      ]
     },
     "execution_count": 8,
     "metadata": {},
     "output_type": "execute_result"
    }
   ],
   "source": [
    "\"abc\"[-1]*3"
   ]
  },
  {
   "cell_type": "code",
   "execution_count": 9,
   "id": "2e90d8a4",
   "metadata": {},
   "outputs": [
    {
     "name": "stdout",
     "output_type": "stream",
     "text": [
      "x y z\n"
     ]
    }
   ],
   "source": [
    "a,b,c=\"xyz\"\n",
    "print(a,b,c)"
   ]
  },
  {
   "cell_type": "code",
   "execution_count": 12,
   "id": "d7e06dfd",
   "metadata": {},
   "outputs": [
    {
     "name": "stdout",
     "output_type": "stream",
     "text": [
      "a 1\n",
      "b 2\n",
      "c 3\n"
     ]
    }
   ],
   "source": [
    "dic = {'a': 1, 'b':2, 'c':3}\n",
    "for k in dic:\n",
    "    print(k,dic[k])"
   ]
  },
  {
   "cell_type": "code",
   "execution_count": 14,
   "id": "57182531",
   "metadata": {},
   "outputs": [
    {
     "name": "stdout",
     "output_type": "stream",
     "text": [
      "1\n",
      "2\n",
      "3\n",
      "4\n",
      "5\n",
      "1\n",
      "2\n",
      "3\n",
      "4\n",
      "5\n",
      "1\n",
      "2\n",
      "3\n",
      "4\n",
      "5\n",
      "1\n",
      "2\n",
      "3\n",
      "4\n",
      "5\n",
      "1\n",
      "2\n",
      "3\n",
      "4\n",
      "5\n",
      "\n"
     ]
    }
   ],
   "source": [
    "def print_n_times(n, *values):\n",
    "    for i in range(n):\n",
    "        for value in values:\n",
    "            print(value)\n",
    "    print()\n",
    "    \n",
    "print_n_times(5,1,2,3,4,5)"
   ]
  },
  {
   "cell_type": "code",
   "execution_count": 15,
   "id": "c8bf0a85",
   "metadata": {},
   "outputs": [
    {
     "name": "stdout",
     "output_type": "stream",
     "text": [
      "a\n",
      "b\n",
      "c\n"
     ]
    }
   ],
   "source": [
    "for k in \"abc\":\n",
    "    print(k)"
   ]
  },
  {
   "cell_type": "code",
   "execution_count": 140,
   "id": "d4f6bb55",
   "metadata": {},
   "outputs": [
    {
     "name": "stdout",
     "output_type": "stream",
     "text": [
      "[246 912]\n"
     ]
    }
   ],
   "source": [
    "import numpy as np\n",
    "\n",
    "a= [123,456]\n",
    "b = np.array(a)*2\n",
    "print(b)"
   ]
  },
  {
   "cell_type": "code",
   "execution_count": 168,
   "id": "1cb2ef55",
   "metadata": {},
   "outputs": [
    {
     "name": "stdout",
     "output_type": "stream",
     "text": [
      "[0, 5, 10, 15, 20, 25, 30, 35, 40, 45]\n",
      "[0, 2, 4, 6, 8]\n"
     ]
    }
   ],
   "source": [
    "a= [n * 5 for n in range(10)]\n",
    "print(a)\n",
    "a= [n  for n in range(10) if n%2 ==0]\n",
    "print(a)\n"
   ]
  },
  {
   "cell_type": "code",
   "execution_count": 177,
   "id": "2a2e6846",
   "metadata": {},
   "outputs": [
    {
     "name": "stdout",
     "output_type": "stream",
     "text": [
      "1 2 3\n"
     ]
    }
   ],
   "source": [
    "i,j,k =1,2,3\n",
    "print(i,j,k)"
   ]
  },
  {
   "cell_type": "code",
   "execution_count": 6,
   "id": "68a8a4c7",
   "metadata": {},
   "outputs": [
    {
     "name": "stdout",
     "output_type": "stream",
     "text": [
      "1 2 3 4 5 6 7 a 1\n",
      "b 2\n",
      "c 3\n"
     ]
    }
   ],
   "source": [
    "for i  in \"1234567\":\n",
    "    print(i, end=\" \")\n",
    "\n",
    "tes = {'a':1, 'b':2, 'c':3}\n",
    "\n",
    "for key in tes:\n",
    "    print(key, tes[key])"
   ]
  },
  {
   "cell_type": "code",
   "execution_count": 9,
   "id": "5b136baf",
   "metadata": {},
   "outputs": [
    {
     "name": "stdout",
     "output_type": "stream",
     "text": [
      "(3, (1, 'two', 3), 3.25)\n"
     ]
    }
   ],
   "source": [
    "t1 = 1, 'two', 3\n",
    "t2= t1, 3.25\n",
    "print((t1+t2)[2:5])\n"
   ]
  },
  {
   "cell_type": "code",
   "execution_count": 26,
   "id": "ad6cee93",
   "metadata": {},
   "outputs": [
    {
     "name": "stdout",
     "output_type": "stream",
     "text": [
      "찾고자하는 숫자를 입력하시오  40\n",
      "입력하신 값은 4 번째에 있습니다\n"
     ]
    }
   ],
   "source": [
    "data = [10,20,30,40,50,60,70,80,90]\n",
    "key = int(input(\"찾고자하는 숫자를 입력하시오  \"))\n",
    "if key in data:\n",
    "    print(\"입력하신 값은 %d 번째에 있습니다\" % (data.index(key)+1))\n",
    "else :\n",
    "    print(\"입력하신 값이 없습니다.\")"
   ]
  }
 ],
 "metadata": {
  "kernelspec": {
   "display_name": "Python 3 (ipykernel)",
   "language": "python",
   "name": "python3"
  },
  "language_info": {
   "codemirror_mode": {
    "name": "ipython",
    "version": 3
   },
   "file_extension": ".py",
   "mimetype": "text/x-python",
   "name": "python",
   "nbconvert_exporter": "python",
   "pygments_lexer": "ipython3",
   "version": "3.10.6"
  }
 },
 "nbformat": 4,
 "nbformat_minor": 5
}
